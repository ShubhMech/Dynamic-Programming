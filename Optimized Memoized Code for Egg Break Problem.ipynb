{
 "cells": [
  {
   "cell_type": "code",
   "execution_count": 313,
   "id": "4083e47b",
   "metadata": {},
   "outputs": [],
   "source": [
    "def ispalindrome(arr,i,j):\n",
    "#     arr2=arr[i:j+1]\n",
    "    \n",
    "    start = i\n",
    "    end = j\n",
    "    \n",
    "    while start<end:\n",
    "        if arr[start] != arr[end]:\n",
    "            return False\n",
    "        else:\n",
    "            start +=1\n",
    "            end -= 1\n",
    "        return True\n",
    "\n",
    "    "
   ]
  },
  {
   "cell_type": "code",
   "execution_count": 285,
   "id": "425794d3",
   "metadata": {},
   "outputs": [],
   "source": [
    "# def ispalindrome(s, start, end):\n",
    "#     while start < end:\n",
    "#         if s[start] != s[end]:\n",
    "#             return 0\n",
    "#         start += 1\n",
    "#         end -= 1\n",
    "#     return 1"
   ]
  },
  {
   "cell_type": "code",
   "execution_count": 334,
   "id": "ff81b53a",
   "metadata": {},
   "outputs": [
    {
     "data": {
      "text/plain": [
       "2"
      ]
     },
     "execution_count": 334,
     "metadata": {},
     "output_type": "execute_result"
    }
   ],
   "source": [
    "def ispalindrome(arr,i,j):\n",
    "#     arr2=arr[i:j+1]\n",
    "    \n",
    "    start = i\n",
    "    end = j\n",
    "    \n",
    "    while start<=end:\n",
    "        if arr[start] != arr[end]:\n",
    "            return False\n",
    "        \n",
    "        start +=1\n",
    "        end -= 1\n",
    "        return True\n",
    "\n",
    "\n",
    "def mm(arr,i,j,t):\n",
    "    \n",
    "    min_= 1e199\n",
    "\n",
    "    if i>=j or ispalindrome(arr,i,j):\n",
    "        t[i][j] = 0\n",
    "        return t[i][j]\n",
    "    \n",
    "    elif t[i][j] != -1:\n",
    "        return t[i][j]\n",
    "\n",
    "    else:\n",
    "        for k in range(i,j):\n",
    "            \n",
    "            if t[i][k] != -1:\n",
    "                left = t[i][k]\n",
    "            else:\n",
    "                left = mm(arr,i,k,t)\n",
    "                \n",
    "            \n",
    "            if t[k+1][j] != -1:\n",
    "                right = t[k+1][j]\n",
    "            else:\n",
    "                right = mm(arr, k+1,j,t)\n",
    "            \n",
    "            temp = 1+ left + right\n",
    "            min_ = min(min_,temp)\n",
    "            \n",
    "    return min_\n",
    "\n",
    "\n",
    "mm(arr,0,len(arr)-1,t)\n",
    "\n",
    "\n",
    "\n",
    "# import sys\n",
    "\n",
    "# def isPalindrome(X, i, j):\n",
    " \n",
    "#     while i <= j:\n",
    "#         if X[i] != X[j]:\n",
    "#             return False\n",
    "#         i = i + 1\n",
    "#         j = j - 1\n",
    " \n",
    "#     return True\n",
    " \n",
    "\n",
    "# def findMinCuts(X, i, j):\n",
    " \n",
    "\n",
    "#     if i == j or isPalindrome(X, i, j):\n",
    "#         return 0\n",
    " \n",
    "#     min = sys.maxsize\n",
    "\n",
    " \n",
    "#     for k in range(i, j):\n",
    " \n",
    "#         count = 1 + findMinCuts(X, i, k) + findMinCuts(X, k + 1, j)\n",
    " \n",
    "#         if count < min:\n",
    "#             min = count\n",
    " \n",
    "#     return min\n",
    " \n",
    "# X = 'BABABCBADCD'\n",
    "# findMinCuts(X, 0, len(X) - 1)"
   ]
  },
  {
   "cell_type": "code",
   "execution_count": 328,
   "id": "f8f9abe7",
   "metadata": {},
   "outputs": [],
   "source": [
    "arr = [\"a\",\"b\",\"c\",\"b\", \"a\"]\n",
    "arr = [\"B\",\"A\",\"B\",\"A\",\"B\",\"C\",\"B\",\"A\",\"D\",\"C\",\"D\"]\n",
    "# arr = []\n",
    "# arr= [\"A\",\"B\",\"C\",\"D\"]"
   ]
  },
  {
   "cell_type": "code",
   "execution_count": 316,
   "id": "2be59a65",
   "metadata": {},
   "outputs": [
    {
     "data": {
      "text/plain": [
       "['B', 'A', 'B', 'A', 'B', 'C', 'B', 'A', 'D', 'C', 'D']"
      ]
     },
     "execution_count": 316,
     "metadata": {},
     "output_type": "execute_result"
    }
   ],
   "source": [
    "arr"
   ]
  },
  {
   "cell_type": "code",
   "execution_count": 317,
   "id": "0aa81386",
   "metadata": {},
   "outputs": [],
   "source": [
    "t = [[-1 for i in range(1001)] for j in range(1001) ]"
   ]
  },
  {
   "cell_type": "code",
   "execution_count": 319,
   "id": "38f6aafc",
   "metadata": {},
   "outputs": [
    {
     "data": {
      "text/plain": [
       "2"
      ]
     },
     "execution_count": 319,
     "metadata": {},
     "output_type": "execute_result"
    }
   ],
   "source": [
    "mm(arr,0,len(arr)-1\n",
    "  )"
   ]
  },
  {
   "cell_type": "code",
   "execution_count": 296,
   "id": "f8787b14",
   "metadata": {},
   "outputs": [
    {
     "data": {
      "text/plain": [
       "(50, 20, 20, 30, 30, 40)"
      ]
     },
     "execution_count": 296,
     "metadata": {},
     "output_type": "execute_result"
    }
   ],
   "source": [
    "50,20, 20,30, 30,40"
   ]
  },
  {
   "cell_type": "code",
   "execution_count": 217,
   "id": "fc63261a",
   "metadata": {},
   "outputs": [],
   "source": [
    "arr = [1, 2, 3, 4, 3]"
   ]
  },
  {
   "cell_type": "code",
   "execution_count": 320,
   "id": "df3a8c33",
   "metadata": {},
   "outputs": [
    {
     "data": {
      "text/plain": [
       "2"
      ]
     },
     "execution_count": 320,
     "metadata": {},
     "output_type": "execute_result"
    }
   ],
   "source": [
    "mm(arr,0,len(arr)-1)"
   ]
  },
  {
   "cell_type": "code",
   "execution_count": 310,
   "id": "4e29efcd",
   "metadata": {},
   "outputs": [],
   "source": [
    "# ispalindrome(arr,0,len(arr)-1)"
   ]
  },
  {
   "cell_type": "code",
   "execution_count": 321,
   "id": "2c5a642d",
   "metadata": {},
   "outputs": [
    {
     "data": {
      "text/plain": [
       "True"
      ]
     },
     "execution_count": 321,
     "metadata": {},
     "output_type": "execute_result"
    }
   ],
   "source": [
    "ispalindrome([\"a\",\"b\",\"c\",\"b\",\"a\"],0,4)"
   ]
  },
  {
   "cell_type": "code",
   "execution_count": 325,
   "id": "a85d599a",
   "metadata": {},
   "outputs": [],
   "source": [
    "arr=[\"n\",\"i\",\"t\",\"i\",\"n\"]"
   ]
  },
  {
   "cell_type": "code",
   "execution_count": 326,
   "id": "0529661a",
   "metadata": {},
   "outputs": [
    {
     "data": {
      "text/plain": [
       "0"
      ]
     },
     "execution_count": 326,
     "metadata": {},
     "output_type": "execute_result"
    }
   ],
   "source": [
    "mm(arr, 0, len(arr)-1)"
   ]
  },
  {
   "cell_type": "code",
   "execution_count": 312,
   "id": "dc17b9cc",
   "metadata": {},
   "outputs": [
    {
     "data": {
      "text/plain": [
       "['B', 'A', 'B', 'A', 'B', 'C', 'B', 'A', 'D', 'C', 'D']"
      ]
     },
     "execution_count": 312,
     "metadata": {},
     "output_type": "execute_result"
    }
   ],
   "source": [
    "arr"
   ]
  },
  {
   "cell_type": "code",
   "execution_count": 3,
   "id": "3921b222",
   "metadata": {},
   "outputs": [],
   "source": [
    "a = \"GeeksforGeeks\"\n",
    "b = \"Gks\""
   ]
  },
  {
   "cell_type": "code",
   "execution_count": 6,
   "id": "66f5aa1c",
   "metadata": {},
   "outputs": [],
   "source": [
    "countb= len(b)\n",
    "count = 0\n",
    "a = \"GeeksforGeeks\"\n",
    "b = \"Gks\"\n",
    "a = list(a)\n",
    "b = list(b)\n",
    "\n",
    "def afunc(a,b, recur_count):   \n",
    "    countb= len(b)  \n",
    "    global count\n",
    "    print(count)\n",
    "    recur_count += 1\n",
    "    if recur_count > 100:\n",
    "        return\n",
    "    for i in range(len(a)):\n",
    "        for j in range(len(b)):\n",
    "            if countb == 0:\n",
    "                count += 1\n",
    "                afunc(a,b,recur_count\n",
    "                     )\n",
    "\n",
    "            if b[j] == a[i]:\n",
    "                countb -= 1\n",
    "                a[i] = 0\n",
    "\n",
    "        \n",
    "            \n",
    "        "
   ]
  },
  {
   "cell_type": "code",
   "execution_count": 7,
   "id": "a933900b",
   "metadata": {},
   "outputs": [
    {
     "name": "stdout",
     "output_type": "stream",
     "text": [
      "0\n",
      "1\n",
      "2\n",
      "3\n",
      "4\n",
      "5\n",
      "6\n",
      "7\n",
      "8\n",
      "9\n",
      "10\n",
      "11\n",
      "12\n",
      "13\n",
      "14\n",
      "15\n",
      "16\n",
      "17\n",
      "18\n",
      "19\n",
      "20\n",
      "21\n",
      "22\n",
      "23\n",
      "24\n"
     ]
    }
   ],
   "source": [
    "afunc(a,b,0)"
   ]
  },
  {
   "cell_type": "code",
   "execution_count": 8,
   "id": "20680798",
   "metadata": {},
   "outputs": [
    {
     "data": {
      "text/plain": [
       "24"
      ]
     },
     "execution_count": 8,
     "metadata": {},
     "output_type": "execute_result"
    }
   ],
   "source": [
    "count"
   ]
  },
  {
   "cell_type": "code",
   "execution_count": 3,
   "id": "bfc23449",
   "metadata": {},
   "outputs": [
    {
     "name": "stdout",
     "output_type": "stream",
     "text": [
      "Equals 3\n",
      "Equals 2\n",
      "Equals 1\n",
      "The Current Count is: 1\n",
      "['e', 'G', 'e', 'k', 's', 'k', 's', 'f', 's', 'o', 'r', 'G', 'e', 'e', 'k', 's']\n",
      "['e', 'e', 'k', 's', 'k', 's', 'f', 's', 'o', 'r', 'G', 'e', 'e', 'k', 's']\n",
      "['e', 'e', 's', 'k', 's', 'f', 's', 'o', 'r', 'G', 'e', 'e', 'k', 's']\n",
      "Equals 3\n",
      "Equals 2\n",
      "Equals 1\n",
      "The Current Count is: 2\n",
      "['e', 'e', 's', 'k', 's', 'f', 's', 'o', 'r', 'e', 'e', 'k', 's']\n"
     ]
    }
   ],
   "source": [
    "count = 0\n",
    "recur = 0\n",
    "\n",
    "a = \"GeGeksksfsorGeeks\"\n",
    "b = \"Gks\"\n",
    "\n",
    "a = list(a)\n",
    "b = list(b)\n",
    "\n",
    "countb = len(b)\n",
    "\n",
    "while True:\n",
    "    s = []\n",
    "    recur += 1\n",
    "    try:\n",
    "#         print(a)\n",
    "        for i in range(len(a)):\n",
    "            for j in range(len(b)):\n",
    "                if a[i]==b[j]:\n",
    "                    print(\"Equals\", countb)\n",
    "                    s.append(a[i])\n",
    "                    countb -= 1\n",
    "                if countb==0:\n",
    "                    count += 1\n",
    "                    countb = len(b)\n",
    "                    print(\"The Current Count is:\", count)\n",
    "                    for ii in s:\n",
    "#                         print(a)\n",
    "                        ind = a.index(ii)\n",
    "                        a.pop(ind)\n",
    "                        print(a)\n",
    "                    \n",
    "                    continue\n",
    "    except:\n",
    "        \n",
    "        break"
   ]
  },
  {
   "cell_type": "code",
   "execution_count": 4,
   "id": "ba343de5",
   "metadata": {},
   "outputs": [
    {
     "data": {
      "text/plain": [
       "2"
      ]
     },
     "execution_count": 4,
     "metadata": {},
     "output_type": "execute_result"
    }
   ],
   "source": [
    "count"
   ]
  },
  {
   "cell_type": "code",
   "execution_count": 5,
   "id": "ea3e05f8",
   "metadata": {},
   "outputs": [
    {
     "data": {
      "text/plain": [
       "['e', 'e', 's', 'k', 's', 'f', 's', 'o', 'r', 'e', 'e', 'k', 's']"
      ]
     },
     "execution_count": 5,
     "metadata": {},
     "output_type": "execute_result"
    }
   ],
   "source": [
    "a"
   ]
  },
  {
   "cell_type": "code",
   "execution_count": 23,
   "id": "5d565f11",
   "metadata": {},
   "outputs": [
    {
     "data": {
      "text/plain": [
       "2"
      ]
     },
     "execution_count": 23,
     "metadata": {},
     "output_type": "execute_result"
    }
   ],
   "source": [
    "count"
   ]
  },
  {
   "cell_type": "code",
   "execution_count": 5,
   "id": "89b48654",
   "metadata": {},
   "outputs": [
    {
     "data": {
      "text/plain": [
       "['e', 'k', 'f', 'G', 'e', 's']"
      ]
     },
     "execution_count": 5,
     "metadata": {},
     "output_type": "execute_result"
    }
   ],
   "source": [
    "a"
   ]
  },
  {
   "cell_type": "code",
   "execution_count": 366,
   "id": "ac674818",
   "metadata": {},
   "outputs": [
    {
     "data": {
      "text/plain": [
       "['G', 'k', 's']"
      ]
     },
     "execution_count": 366,
     "metadata": {},
     "output_type": "execute_result"
    }
   ],
   "source": [
    "b"
   ]
  },
  {
   "cell_type": "code",
   "execution_count": 369,
   "id": "3904dbdc",
   "metadata": {},
   "outputs": [
    {
     "data": {
      "text/plain": [
       "0"
      ]
     },
     "execution_count": 369,
     "metadata": {},
     "output_type": "execute_result"
    }
   ],
   "source": [
    "count"
   ]
  },
  {
   "cell_type": "code",
   "execution_count": 6,
   "id": "e4f86c81",
   "metadata": {},
   "outputs": [
    {
     "name": "stdout",
     "output_type": "stream",
     "text": [
      "4\n"
     ]
    }
   ],
   "source": [
    "\n",
    "def count(a, b):\n",
    "\tm = len(a)\n",
    "\tn = len(b)\n",
    "\n",
    "\tlookup = [[0] * (n + 1) for i in range(m + 1)]\n",
    "\n",
    "\n",
    "\tfor i in range(n+1):\n",
    "\t\tlookup[0][i] = 0\n",
    "\n",
    "\n",
    "\tfor i in range(m + 1):\n",
    "\t\tlookup[i][0] = 1\n",
    "\n",
    "\tfor i in range(1, m + 1):\n",
    "\t\tfor j in range(1, n + 1):\n",
    "\n",
    "\t\t\tif a[i - 1] == b[j - 1]:\n",
    "\t\t\t\tlookup[i][j] = lookup[i - 1][j - 1] + lookup[i - 1][j]\n",
    "\n",
    "\t\t\telse:\n",
    "\n",
    "\t\t\t\tlookup[i][j] = lookup[i - 1][j]\n",
    "\n",
    "\treturn lookup[m][n]\n",
    "\n",
    "\n",
    "if __name__ == '__main__':\n",
    "\ta = \"GeeksforGeeks\"\n",
    "\tb = \"Gks\"\n",
    "\n",
    "\tprint(count(a, b))\n"
   ]
  },
  {
   "cell_type": "code",
   "execution_count": 36,
   "id": "cddaabc7",
   "metadata": {},
   "outputs": [],
   "source": [
    "def afunc(arr,i,j, expr,dict1={}):\n",
    "    \n",
    "    if i>j:\n",
    "        return True\n",
    "    \n",
    "    elif i==j:\n",
    "        \n",
    "        if expr == True:\n",
    "            if arr[i]== True:\n",
    "                return True\n",
    "            else: \n",
    "                return False\n",
    "            \n",
    "        if expr == False:\n",
    "            if arr[i]==False:\n",
    "                return True\n",
    "            else: \n",
    "                return False\n",
    "            \n",
    "    if str(i)+str(j)+str(expr) in dict1.keys():\n",
    "        return dict1[str(i)+str(j)+str(expr)]\n",
    "    \n",
    "    else:\n",
    "        \n",
    "            \n",
    "        ans = 0\n",
    "\n",
    "        for k in range(i,j,2):\n",
    "\n",
    "            lt = afunc(arr,i,k-1,True,dict1)\n",
    "            lf = afunc(arr,i,k-1,False,dict1)\n",
    "            rt = afunc(arr,k+1,j,True,dict1)\n",
    "            rf = afunc(arr,k+1,j,False,dict1)\n",
    "\n",
    "            if arr[k] == \"|\":\n",
    "\n",
    "                if expr == True:\n",
    "\n",
    "                    ans += lt*rt + lt*rf + lf*rt\n",
    "                else:\n",
    "                    ans += lf*rf\n",
    "\n",
    "            elif arr[k] == \"&\":\n",
    "\n",
    "                if expr == True:\n",
    "                    ans += lt*rt\n",
    "                else:\n",
    "                    ans += lf*rf + lf*rt + lt*rf\n",
    "\n",
    "            elif arr[k] == \"^\":\n",
    "                if expr == True:\n",
    "                    ans += lt*rf + lf*rt\n",
    "                else:\n",
    "                    ans += lf*rf + lt*rt\n",
    "\n",
    "        dict1[str(i)+str(j)+str(expr)] = ans\n",
    "\n",
    "        print(dict1)\n",
    "        return ans     "
   ]
  },
  {
   "cell_type": "code",
   "execution_count": 37,
   "id": "09759948",
   "metadata": {},
   "outputs": [],
   "source": [
    "arr = \"T|T&F^F\""
   ]
  },
  {
   "cell_type": "code",
   "execution_count": 38,
   "id": "1783f80c",
   "metadata": {},
   "outputs": [
    {
     "name": "stdout",
     "output_type": "stream",
     "text": [
      "{'56True': 0}\n",
      "{'56True': 0, '56False': 0}\n",
      "{'56True': 0, '56False': 0, '46True': 0}\n",
      "{'56True': 0, '56False': 0, '46True': 0, '46False': 0}\n",
      "{'56True': 0, '56False': 0, '46True': 0, '46False': 0, '34True': 0}\n",
      "{'56True': 0, '56False': 0, '46True': 0, '46False': 0, '34True': 0, '34False': 0}\n",
      "{'56True': 0, '56False': 0, '46True': 0, '46False': 0, '34True': 0, '34False': 0, '36True': 0}\n",
      "{'56True': 0, '56False': 0, '46True': 0, '46False': 0, '34True': 0, '34False': 0, '36True': 0, '36False': 0}\n",
      "{'56True': 0, '56False': 0, '46True': 0, '46False': 0, '34True': 0, '34False': 0, '36True': 0, '36False': 0, '23True': 0}\n",
      "{'56True': 0, '56False': 0, '46True': 0, '46False': 0, '34True': 0, '34False': 0, '36True': 0, '36False': 0, '23True': 0, '23False': 0}\n",
      "{'56True': 0, '56False': 0, '46True': 0, '46False': 0, '34True': 0, '34False': 0, '36True': 0, '36False': 0, '23True': 0, '23False': 0, '26True': 0}\n",
      "{'56True': 0, '56False': 0, '46True': 0, '46False': 0, '34True': 0, '34False': 0, '36True': 0, '36False': 0, '23True': 0, '23False': 0, '26True': 0, '26False': 0}\n",
      "{'56True': 0, '56False': 0, '46True': 0, '46False': 0, '34True': 0, '34False': 0, '36True': 0, '36False': 0, '23True': 0, '23False': 0, '26True': 0, '26False': 0, '12True': 0}\n",
      "{'56True': 0, '56False': 0, '46True': 0, '46False': 0, '34True': 0, '34False': 0, '36True': 0, '36False': 0, '23True': 0, '23False': 0, '26True': 0, '26False': 0, '12True': 0, '12False': 0}\n",
      "{'56True': 0, '56False': 0, '46True': 0, '46False': 0, '34True': 0, '34False': 0, '36True': 0, '36False': 0, '23True': 0, '23False': 0, '26True': 0, '26False': 0, '12True': 0, '12False': 0, '24True': 0}\n",
      "{'56True': 0, '56False': 0, '46True': 0, '46False': 0, '34True': 0, '34False': 0, '36True': 0, '36False': 0, '23True': 0, '23False': 0, '26True': 0, '26False': 0, '12True': 0, '12False': 0, '24True': 0, '24False': 0}\n",
      "{'56True': 0, '56False': 0, '46True': 0, '46False': 0, '34True': 0, '34False': 0, '36True': 0, '36False': 0, '23True': 0, '23False': 0, '26True': 0, '26False': 0, '12True': 0, '12False': 0, '24True': 0, '24False': 0, '14True': 0}\n",
      "{'56True': 0, '56False': 0, '46True': 0, '46False': 0, '34True': 0, '34False': 0, '36True': 0, '36False': 0, '23True': 0, '23False': 0, '26True': 0, '26False': 0, '12True': 0, '12False': 0, '24True': 0, '24False': 0, '14True': 0, '14False': 0}\n",
      "{'56True': 0, '56False': 0, '46True': 0, '46False': 0, '34True': 0, '34False': 0, '36True': 0, '36False': 0, '23True': 0, '23False': 0, '26True': 0, '26False': 0, '12True': 0, '12False': 0, '24True': 0, '24False': 0, '14True': 0, '14False': 0, '16True': 0}\n",
      "{'56True': 0, '56False': 0, '46True': 0, '46False': 0, '34True': 0, '34False': 0, '36True': 0, '36False': 0, '23True': 0, '23False': 0, '26True': 0, '26False': 0, '12True': 0, '12False': 0, '24True': 0, '24False': 0, '14True': 0, '14False': 0, '16True': 0, '16False': 0}\n",
      "{'56True': 0, '56False': 0, '46True': 0, '46False': 0, '34True': 0, '34False': 0, '36True': 0, '36False': 0, '23True': 0, '23False': 0, '26True': 0, '26False': 0, '12True': 0, '12False': 0, '24True': 0, '24False': 0, '14True': 0, '14False': 0, '16True': 0, '16False': 0, '01True': 0}\n",
      "{'56True': 0, '56False': 0, '46True': 0, '46False': 0, '34True': 0, '34False': 0, '36True': 0, '36False': 0, '23True': 0, '23False': 0, '26True': 0, '26False': 0, '12True': 0, '12False': 0, '24True': 0, '24False': 0, '14True': 0, '14False': 0, '16True': 0, '16False': 0, '01True': 0, '01False': 0}\n",
      "{'56True': 0, '56False': 0, '46True': 0, '46False': 0, '34True': 0, '34False': 0, '36True': 0, '36False': 0, '23True': 0, '23False': 0, '26True': 0, '26False': 0, '12True': 0, '12False': 0, '24True': 0, '24False': 0, '14True': 0, '14False': 0, '16True': 0, '16False': 0, '01True': 0, '01False': 0, '13True': 0}\n",
      "{'56True': 0, '56False': 0, '46True': 0, '46False': 0, '34True': 0, '34False': 0, '36True': 0, '36False': 0, '23True': 0, '23False': 0, '26True': 0, '26False': 0, '12True': 0, '12False': 0, '24True': 0, '24False': 0, '14True': 0, '14False': 0, '16True': 0, '16False': 0, '01True': 0, '01False': 0, '13True': 0, '13False': 0}\n",
      "{'56True': 0, '56False': 0, '46True': 0, '46False': 0, '34True': 0, '34False': 0, '36True': 0, '36False': 0, '23True': 0, '23False': 0, '26True': 0, '26False': 0, '12True': 0, '12False': 0, '24True': 0, '24False': 0, '14True': 0, '14False': 0, '16True': 0, '16False': 0, '01True': 0, '01False': 0, '13True': 0, '13False': 0, '03True': 0}\n",
      "{'56True': 0, '56False': 0, '46True': 0, '46False': 0, '34True': 0, '34False': 0, '36True': 0, '36False': 0, '23True': 0, '23False': 0, '26True': 0, '26False': 0, '12True': 0, '12False': 0, '24True': 0, '24False': 0, '14True': 0, '14False': 0, '16True': 0, '16False': 0, '01True': 0, '01False': 0, '13True': 0, '13False': 0, '03True': 0, '03False': 0}\n",
      "{'56True': 0, '56False': 0, '46True': 0, '46False': 0, '34True': 0, '34False': 0, '36True': 0, '36False': 0, '23True': 0, '23False': 0, '26True': 0, '26False': 0, '12True': 0, '12False': 0, '24True': 0, '24False': 0, '14True': 0, '14False': 0, '16True': 0, '16False': 0, '01True': 0, '01False': 0, '13True': 0, '13False': 0, '03True': 0, '03False': 0, '06False': 0}\n"
     ]
    },
    {
     "data": {
      "text/plain": [
       "0"
      ]
     },
     "execution_count": 38,
     "metadata": {},
     "output_type": "execute_result"
    }
   ],
   "source": [
    "afunc(arr,0,len(arr)-1,False)"
   ]
  },
  {
   "cell_type": "code",
   "execution_count": 106,
   "id": "dce1a40e",
   "metadata": {},
   "outputs": [],
   "source": [
    "e= 2\n",
    "f=4"
   ]
  },
  {
   "cell_type": "code",
   "execution_count": 115,
   "id": "8db0a4b4",
   "metadata": {},
   "outputs": [],
   "source": [
    "t =[[-1 for x in range(e+1)] for y in range(f+1)]"
   ]
  },
  {
   "cell_type": "code",
   "execution_count": 122,
   "id": "d92647d1",
   "metadata": {},
   "outputs": [],
   "source": [
    "def afunc(e,f,t):\n",
    "    if e== 1:\n",
    "        return f\n",
    "    if f==0 or f== 1:\n",
    "        return f   \n",
    "    min_ans = 1e199\n",
    "    \n",
    "    if t[f][e] != -1:\n",
    "        return t[f][e]\n",
    "    else:\n",
    "    \n",
    "        for x in range(1,f+1):\n",
    "            if t[e-1][x-1] != -1:\n",
    "                lv = t[e-1][x-1]\n",
    "            else:\n",
    "                lv = afunc(e-1,x-1,t)\n",
    "            \n",
    "            if t[e][f-x] != -1:\n",
    "                lv = t[e][f-x]\n",
    "            else:\n",
    "                rv = afunc(e,f-x,t)\n",
    "                \n",
    "            min_temp = 1 + max(lv,rv)\n",
    "\n",
    "            min_ans  = min(min_ans, min_temp)\n",
    "        t[f][e] = min_ans\n",
    "        return min_ans\n",
    "                       "
   ]
  },
  {
   "cell_type": "code",
   "execution_count": 123,
   "id": "c7e472a8",
   "metadata": {},
   "outputs": [
    {
     "data": {
      "text/plain": [
       "3"
      ]
     },
     "execution_count": 123,
     "metadata": {},
     "output_type": "execute_result"
    }
   ],
   "source": [
    "afunc(2,4,t)"
   ]
  },
  {
   "cell_type": "code",
   "execution_count": 124,
   "id": "fc2cc3e7",
   "metadata": {},
   "outputs": [
    {
     "data": {
      "text/plain": [
       "3"
      ]
     },
     "execution_count": 124,
     "metadata": {},
     "output_type": "execute_result"
    }
   ],
   "source": [
    "t[f][e]"
   ]
  },
  {
   "cell_type": "code",
   "execution_count": 125,
   "id": "b404ac12",
   "metadata": {},
   "outputs": [
    {
     "data": {
      "text/plain": [
       "[-1, -1, 2]"
      ]
     },
     "execution_count": 125,
     "metadata": {},
     "output_type": "execute_result"
    }
   ],
   "source": [
    "t[e]"
   ]
  },
  {
   "cell_type": "code",
   "execution_count": null,
   "id": "4e1fe6ba",
   "metadata": {},
   "outputs": [],
   "source": []
  }
 ],
 "metadata": {
  "kernelspec": {
   "display_name": "Python 3",
   "language": "python",
   "name": "python3"
  },
  "language_info": {
   "codemirror_mode": {
    "name": "ipython",
    "version": 3
   },
   "file_extension": ".py",
   "mimetype": "text/x-python",
   "name": "python",
   "nbconvert_exporter": "python",
   "pygments_lexer": "ipython3",
   "version": "3.8.5"
  }
 },
 "nbformat": 4,
 "nbformat_minor": 5
}
