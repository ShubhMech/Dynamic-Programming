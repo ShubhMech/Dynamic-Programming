{
 "cells": [
  {
   "cell_type": "code",
   "execution_count": 1,
   "id": "868a7c6f",
   "metadata": {},
   "outputs": [],
   "source": [
    "arr1 = [\"a\",\"b\",\"c\",\"d\",\"e\"]\n",
    "arr2 = [\"a\",\"b\",\"f\",\"d\",\"e\",\"t\"]\n",
    "\n",
    "res = []\n",
    "\n",
    "n = 5\n",
    "m = 6"
   ]
  },
  {
   "cell_type": "code",
   "execution_count": 2,
   "id": "ef49ad31",
   "metadata": {},
   "outputs": [],
   "source": [
    "table = [[-1 for x in range(n+1)] for y in range(m+1)]"
   ]
  },
  {
   "cell_type": "code",
   "execution_count": 3,
   "id": "9ea3c31c",
   "metadata": {},
   "outputs": [],
   "source": [
    "def afunc(arr1,arr2,m,n,t, res):\n",
    "#     print(n,m)\n",
    "    if n<=0 or m<=0:\n",
    "        return 0\n",
    "    elif arr1[n-1] == arr2[m-1]:\n",
    "#         print(\"Yes\")\n",
    "#         res.append(arr1[n-1])\n",
    "        t[m][n] = 1 + afunc(arr1,arr2,m-1,n-1,t,res)\n",
    "        return t[m][n]\n",
    "    else:\n",
    "        t[m][n] = (max(afunc(arr1,arr2,m-1,n,t,res), afunc(arr1,arr2,m,n-1,t,res)))\n",
    "        \n",
    "        \n",
    "        return t[m][n]\n",
    "    \n",
    "    \n",
    "    print(\"Yes\")\n",
    "    return t[m][n]"
   ]
  },
  {
   "cell_type": "code",
   "execution_count": 4,
   "id": "da374f1a",
   "metadata": {},
   "outputs": [
    {
     "data": {
      "text/plain": [
       "4"
      ]
     },
     "execution_count": 4,
     "metadata": {},
     "output_type": "execute_result"
    }
   ],
   "source": [
    "afunc(arr1,arr2,m,n,table,res)"
   ]
  },
  {
   "cell_type": "code",
   "execution_count": 5,
   "id": "fe6756a0",
   "metadata": {},
   "outputs": [
    {
     "data": {
      "text/plain": [
       "1"
      ]
     },
     "execution_count": 5,
     "metadata": {},
     "output_type": "execute_result"
    }
   ],
   "source": [
    "len(arr1)-table[m][n]"
   ]
  },
  {
   "cell_type": "code",
   "execution_count": 6,
   "id": "21290249",
   "metadata": {},
   "outputs": [
    {
     "data": {
      "text/plain": [
       "2"
      ]
     },
     "execution_count": 6,
     "metadata": {},
     "output_type": "execute_result"
    }
   ],
   "source": [
    "len(arr2)-table[m][n]"
   ]
  },
  {
   "cell_type": "code",
   "execution_count": 7,
   "id": "015b5b38",
   "metadata": {},
   "outputs": [
    {
     "data": {
      "text/plain": [
       "6"
      ]
     },
     "execution_count": 7,
     "metadata": {},
     "output_type": "execute_result"
    }
   ],
   "source": [
    "m"
   ]
  },
  {
   "cell_type": "code",
   "execution_count": 8,
   "id": "03ae2f76",
   "metadata": {},
   "outputs": [
    {
     "data": {
      "text/plain": [
       "6"
      ]
     },
     "execution_count": 8,
     "metadata": {},
     "output_type": "execute_result"
    }
   ],
   "source": [
    "m"
   ]
  },
  {
   "cell_type": "code",
   "execution_count": 9,
   "id": "2e6baed0",
   "metadata": {},
   "outputs": [
    {
     "data": {
      "text/plain": [
       "4"
      ]
     },
     "execution_count": 9,
     "metadata": {},
     "output_type": "execute_result"
    }
   ],
   "source": [
    "table[m][n]"
   ]
  },
  {
   "cell_type": "code",
   "execution_count": 10,
   "id": "e65bd6d0",
   "metadata": {},
   "outputs": [],
   "source": [
    "t = table.copy()"
   ]
  },
  {
   "cell_type": "code",
   "execution_count": 24,
   "id": "ee373bc6",
   "metadata": {},
   "outputs": [],
   "source": [
    "arr1 = [\"a\",\"b\",\"d\",\"a\", \"b\"]\n",
    "arr2 = arr1\n",
    "\n",
    "n = 5\n",
    "m = 5\n",
    "\n",
    "import numpy as np\n",
    "\n",
    "tt = [[0]*(n+1) for y in range(m+1)]\n",
    "\n",
    "s = []\n",
    "\n",
    "for i in range(n+1):\n",
    "    for j in range(m+1):\n",
    "               \n",
    "        if i == 0 or j == 0:\n",
    "\n",
    "            tt[i][j]= 0\n",
    "            \n",
    "        elif arr2[i-1] == arr1[j-1] and i != j :\n",
    "\n",
    "            tt[i][j] = tt[i-1][j-1] + 1\n",
    "            s.append(arr2[i-1])\n",
    "\n",
    "        else:\n",
    "\n",
    "            tt[i][j] = max(tt[i-1][j], tt[i][j-1])\n",
    "            "
   ]
  },
  {
   "cell_type": "code",
   "execution_count": 25,
   "id": "4fc8a159",
   "metadata": {},
   "outputs": [
    {
     "data": {
      "text/plain": [
       "[[0, 0, 0, 0, 0, 0],\n",
       " [0, 0, 0, 0, 1, 1],\n",
       " [0, 0, 0, 0, 1, 2],\n",
       " [0, 0, 0, 0, 1, 2],\n",
       " [0, 1, 1, 1, 1, 2],\n",
       " [0, 1, 2, 2, 2, 2]]"
      ]
     },
     "execution_count": 25,
     "metadata": {},
     "output_type": "execute_result"
    }
   ],
   "source": [
    "tt"
   ]
  },
  {
   "cell_type": "code",
   "execution_count": 26,
   "id": "4a2ae019",
   "metadata": {},
   "outputs": [
    {
     "data": {
      "text/plain": [
       "['a', 'b', 'd', 'a', 'b']"
      ]
     },
     "execution_count": 26,
     "metadata": {},
     "output_type": "execute_result"
    }
   ],
   "source": [
    "arr1"
   ]
  },
  {
   "cell_type": "code",
   "execution_count": 27,
   "id": "e0e3e0f4",
   "metadata": {},
   "outputs": [
    {
     "data": {
      "text/plain": [
       "['a', 'b', 'd', 'a', 'b']"
      ]
     },
     "execution_count": 27,
     "metadata": {},
     "output_type": "execute_result"
    }
   ],
   "source": [
    "arr2"
   ]
  },
  {
   "cell_type": "code",
   "execution_count": 28,
   "id": "2b0b340e",
   "metadata": {},
   "outputs": [
    {
     "data": {
      "text/plain": [
       "['a', 'b', 'a', 'b']"
      ]
     },
     "execution_count": 28,
     "metadata": {},
     "output_type": "execute_result"
    }
   ],
   "source": [
    "s"
   ]
  },
  {
   "cell_type": "code",
   "execution_count": 16,
   "id": "2234931d",
   "metadata": {},
   "outputs": [],
   "source": [
    "lcs = \"\".join(s)"
   ]
  },
  {
   "cell_type": "code",
   "execution_count": 17,
   "id": "93528d4b",
   "metadata": {},
   "outputs": [
    {
     "data": {
      "text/plain": [
       "'aadbaa'"
      ]
     },
     "execution_count": 17,
     "metadata": {},
     "output_type": "execute_result"
    }
   ],
   "source": [
    "lcs"
   ]
  },
  {
   "cell_type": "code",
   "execution_count": 18,
   "id": "b4267d01",
   "metadata": {},
   "outputs": [
    {
     "data": {
      "text/plain": [
       "[0, 1, 2, 2, 3]"
      ]
     },
     "execution_count": 18,
     "metadata": {},
     "output_type": "execute_result"
    }
   ],
   "source": [
    "max(tt)"
   ]
  },
  {
   "cell_type": "code",
   "execution_count": null,
   "id": "69e3aec5",
   "metadata": {},
   "outputs": [],
   "source": []
  },
  {
   "cell_type": "code",
   "execution_count": null,
   "id": "2d8159e3",
   "metadata": {},
   "outputs": [],
   "source": []
  },
  {
   "cell_type": "code",
   "execution_count": 19,
   "id": "da54e919",
   "metadata": {},
   "outputs": [
    {
     "data": {
      "text/plain": [
       "[]"
      ]
     },
     "execution_count": 19,
     "metadata": {},
     "output_type": "execute_result"
    }
   ],
   "source": [
    "res"
   ]
  },
  {
   "cell_type": "code",
   "execution_count": 20,
   "id": "1dbbb058",
   "metadata": {},
   "outputs": [],
   "source": [
    "arr1 = [\"a\",\"b\",\"g\",\"e\"]\n",
    "arr2 = [\"a\",\"b\",\"d\",\"e\"]\n",
    "\n",
    "n = 4\n",
    "m = 4\n",
    "\n",
    "res = 0\n",
    "\n",
    "tt = [[0]*(n+1) for y in range(m+1)]\n",
    "\n",
    "s = []\n",
    "\n",
    "for i in range(n+1):\n",
    "    for j in range(m+1):\n",
    "               \n",
    "        if i == 0 or j == 0:\n",
    "\n",
    "            tt[i][j]= 0\n",
    "            \n",
    "        elif arr2[i-1] == arr1[j-1] :\n",
    "\n",
    "            tt[i][j] = tt[i-1][j-1] + 1\n",
    "            s.append(arr2[i-1])\n",
    "            res = max(res, tt[i][j])\n",
    "\n",
    "        else:\n",
    "\n",
    "            tt[i][j] = 0\n",
    "            "
   ]
  },
  {
   "cell_type": "code",
   "execution_count": null,
   "id": "57bc5271",
   "metadata": {},
   "outputs": [],
   "source": []
  },
  {
   "cell_type": "code",
   "execution_count": null,
   "id": "9f75c5f2",
   "metadata": {},
   "outputs": [],
   "source": []
  }
 ],
 "metadata": {
  "kernelspec": {
   "display_name": "Python 3",
   "language": "python",
   "name": "python3"
  },
  "language_info": {
   "codemirror_mode": {
    "name": "ipython",
    "version": 3
   },
   "file_extension": ".py",
   "mimetype": "text/x-python",
   "name": "python",
   "nbconvert_exporter": "python",
   "pygments_lexer": "ipython3",
   "version": "3.8.5"
  }
 },
 "nbformat": 4,
 "nbformat_minor": 5
}
