{
 "cells": [
  {
   "cell_type": "code",
   "execution_count": 23,
   "id": "816482ba",
   "metadata": {},
   "outputs": [],
   "source": [
    "arr= [12,13,14]\n",
    "wt = 25\n",
    "n= len(arr)"
   ]
  },
  {
   "cell_type": "code",
   "execution_count": 16,
   "id": "dac024b9",
   "metadata": {},
   "outputs": [],
   "source": [
    "t = [[-1 for x in range(wt+1)] for j in range(n+1)]"
   ]
  },
  {
   "cell_type": "code",
   "execution_count": 17,
   "id": "d15d8385",
   "metadata": {},
   "outputs": [
    {
     "data": {
      "text/plain": [
       "-1"
      ]
     },
     "execution_count": 17,
     "metadata": {},
     "output_type": "execute_result"
    }
   ],
   "source": [
    "t[3][4]"
   ]
  },
  {
   "cell_type": "code",
   "execution_count": 40,
   "id": "6ff2a459",
   "metadata": {},
   "outputs": [],
   "source": [
    "def afunc(arr,n,w):\n",
    "    t = [[-1 for x in range(wt+1)] for j in range(n+1)]\n",
    "    for nn in range(n+1):\n",
    "        for w in range(wt+1):\n",
    "            if nn ==0 and w!= 0:\n",
    "                t[nn][w]  = False\n",
    "            elif w == 0:\n",
    "                t[nn][w] = True\n",
    "            elif w-arr[nn-1]<0:\n",
    "                t[nn][w] = t[nn-1][w]\n",
    "            else:\n",
    "                t[nn][w] = t[nn-1][w-arr[nn-1]] | t[nn-1][w]\n",
    "    return t[nn][w]"
   ]
  },
  {
   "cell_type": "code",
   "execution_count": 41,
   "id": "c832c8dd",
   "metadata": {},
   "outputs": [
    {
     "data": {
      "text/plain": [
       "True"
      ]
     },
     "execution_count": 41,
     "metadata": {},
     "output_type": "execute_result"
    }
   ],
   "source": [
    "t[nn][w]"
   ]
  },
  {
   "cell_type": "code",
   "execution_count": 44,
   "id": "d1a0bf40",
   "metadata": {},
   "outputs": [
    {
     "data": {
      "text/plain": [
       "True"
      ]
     },
     "execution_count": 44,
     "metadata": {},
     "output_type": "execute_result"
    }
   ],
   "source": [
    "afunc(arr,3,25)"
   ]
  },
  {
   "cell_type": "code",
   "execution_count": null,
   "id": "e0c7566e",
   "metadata": {},
   "outputs": [],
   "source": []
  },
  {
   "cell_type": "code",
   "execution_count": null,
   "id": "79f0ef44",
   "metadata": {},
   "outputs": [],
   "source": []
  },
  {
   "cell_type": "code",
   "execution_count": null,
   "id": "cec5b341",
   "metadata": {},
   "outputs": [],
   "source": []
  }
 ],
 "metadata": {
  "kernelspec": {
   "display_name": "Python 3",
   "language": "python",
   "name": "python3"
  },
  "language_info": {
   "codemirror_mode": {
    "name": "ipython",
    "version": 3
   },
   "file_extension": ".py",
   "mimetype": "text/x-python",
   "name": "python",
   "nbconvert_exporter": "python",
   "pygments_lexer": "ipython3",
   "version": "3.8.5"
  }
 },
 "nbformat": 4,
 "nbformat_minor": 5
}
