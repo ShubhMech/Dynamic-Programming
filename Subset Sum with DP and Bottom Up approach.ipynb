{
 "cells": [
  {
   "cell_type": "code",
   "execution_count": 8,
   "id": "cf9ffc38",
   "metadata": {},
   "outputs": [],
   "source": [
    "\n",
    "arr = [10, 20, 30]\n",
    "sum_ = 51\n",
    "n= len(arr)"
   ]
  },
  {
   "cell_type": "code",
   "execution_count": 9,
   "id": "2cb2a26b",
   "metadata": {},
   "outputs": [],
   "source": [
    "t = [[False for s in range(sum_+1)] for j in range(n+1)]\n",
    "for s in range(sum_+1):\n",
    "     for j in range(n+1):\n",
    "            if s == 0 :\n",
    "                t[j][s] = True\n",
    "            elif j == 0 and s!= 0:\n",
    "                t[j][s] = False\n",
    "            elif s-arr[j-1]<0:\n",
    "                t[j][s] = t[j-1][s]\n",
    "            else:\n",
    "                t[j][s] = t[j-1][s] | t[j-1][s-arr[j-1]]"
   ]
  },
  {
   "cell_type": "code",
   "execution_count": 10,
   "id": "fffd78dd",
   "metadata": {},
   "outputs": [
    {
     "data": {
      "text/plain": [
       "False"
      ]
     },
     "execution_count": 10,
     "metadata": {},
     "output_type": "execute_result"
    }
   ],
   "source": [
    "t[j][s]"
   ]
  },
  {
   "cell_type": "code",
   "execution_count": null,
   "id": "3500324e",
   "metadata": {},
   "outputs": [],
   "source": []
  }
 ],
 "metadata": {
  "kernelspec": {
   "display_name": "Python 3",
   "language": "python",
   "name": "python3"
  },
  "language_info": {
   "codemirror_mode": {
    "name": "ipython",
    "version": 3
   },
   "file_extension": ".py",
   "mimetype": "text/x-python",
   "name": "python",
   "nbconvert_exporter": "python",
   "pygments_lexer": "ipython3",
   "version": "3.8.5"
  }
 },
 "nbformat": 4,
 "nbformat_minor": 5
}
