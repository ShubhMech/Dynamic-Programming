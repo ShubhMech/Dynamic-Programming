{
 "cells": [
  {
   "cell_type": "code",
   "execution_count": 174,
   "id": "f30fe257",
   "metadata": {},
   "outputs": [],
   "source": [
    "arr = [10, 20, 30]\n",
    "sum_ = 51\n",
    "n= len(arr)\n",
    "\n",
    "\n",
    "arr= [12,13,14,107]\n",
    "sum_ = 28\n",
    "n= len(arr)"
   ]
  },
  {
   "cell_type": "code",
   "execution_count": 175,
   "id": "696bf692",
   "metadata": {},
   "outputs": [],
   "source": [
    "def afunc(arr,n,w):\n",
    "    t = [[False for s in range(sum_+1)] for j in range(n+1)]\n",
    "    for s in range(sum_+1):\n",
    "         for j in range(n+1):\n",
    "            if s == 0 :\n",
    "                t[j][s] = True\n",
    "            elif j == 0 and s!= 0:\n",
    "                t[j][s] = False\n",
    "            elif s-arr[j-1]<0:\n",
    "                t[j][s] = t[j-1][s]\n",
    "            else:\n",
    "                t[j][s] = t[j-1][s] | t[j-1][s-arr[j-1]]\n",
    "    return t[j][s]\n",
    "           "
   ]
  },
  {
   "cell_type": "code",
   "execution_count": 176,
   "id": "a0cf1058",
   "metadata": {},
   "outputs": [
    {
     "name": "stdout",
     "output_type": "stream",
     "text": [
      "12\n",
      "25\n",
      "Nope\n",
      "39\n",
      "Nope\n",
      "146\n",
      "Sending the code for checking the equal sum subsets\n",
      "False\n"
     ]
    }
   ],
   "source": [
    "equal_sum_partition(arr,4)"
   ]
  },
  {
   "cell_type": "code",
   "execution_count": 177,
   "id": "4ad6a209",
   "metadata": {},
   "outputs": [
    {
     "data": {
      "text/plain": [
       "True"
      ]
     },
     "execution_count": 177,
     "metadata": {},
     "output_type": "execute_result"
    }
   ],
   "source": [
    "t[-1][-1]"
   ]
  },
  {
   "cell_type": "code",
   "execution_count": 179,
   "id": "90325e91",
   "metadata": {},
   "outputs": [
    {
     "data": {
      "text/plain": [
       "False"
      ]
     },
     "execution_count": 179,
     "metadata": {},
     "output_type": "execute_result"
    }
   ],
   "source": [
    "afunc(arr,4,73)"
   ]
  },
  {
   "cell_type": "code",
   "execution_count": 184,
   "id": "40c3f536",
   "metadata": {},
   "outputs": [],
   "source": [
    "\n",
    "\n",
    "def equal_sum_partition(arr,n):\n",
    "    sum = 0\n",
    "    for i in range(len(arr)):\n",
    "        sum += arr[i]\n",
    "        print(sum)\n",
    "        \n",
    "        if sum % 2 == 0 :\n",
    "            print(\"Sending the code for checking the equal sum subsets\")\n",
    "\n",
    "            print(afunc(arr,i,sum/2))\n",
    "        else:\n",
    "            print(\"Nope\")"
   ]
  },
  {
   "cell_type": "code",
   "execution_count": 185,
   "id": "68e8fa0a",
   "metadata": {},
   "outputs": [
    {
     "name": "stdout",
     "output_type": "stream",
     "text": [
      "12\n",
      "Sending the code for checking the equal sum subsets\n",
      "False\n",
      "25\n",
      "Nope\n",
      "39\n",
      "Nope\n",
      "146\n",
      "Sending the code for checking the equal sum subsets\n",
      "False\n"
     ]
    }
   ],
   "source": [
    "equal_sum_partition(arr,4)"
   ]
  },
  {
   "cell_type": "code",
   "execution_count": 191,
   "id": "fda680ec",
   "metadata": {},
   "outputs": [],
   "source": [
    "arr = [1, 2, 3, 47, 48, 49]\n",
    "sum_ = 50\n",
    "n= len(arr)\n",
    "\n",
    "t = [[0 for s in range(sum_+1)] for j in range(n+1)]\n",
    "for s in range(sum_+1):\n",
    "     for j in range(n+1):\n",
    "            if s == 0 :\n",
    "                t[j][s] = 1\n",
    "            elif j == 0 and s!= 0:\n",
    "                t[j][s] = 0\n",
    "            elif s-arr[j-1]<0:\n",
    "                t[j][s] = t[j-1][s]\n",
    "            else:\n",
    "                t[j][s] = t[j-1][s] + t[j-1][s-arr[j-1]]"
   ]
  },
  {
   "cell_type": "code",
   "execution_count": 192,
   "id": "dc72e6f0",
   "metadata": {},
   "outputs": [
    {
     "data": {
      "text/plain": [
       "4"
      ]
     },
     "execution_count": 192,
     "metadata": {},
     "output_type": "execute_result"
    }
   ],
   "source": [
    "t[j][s]"
   ]
  },
  {
   "cell_type": "code",
   "execution_count": null,
   "id": "4676694a",
   "metadata": {},
   "outputs": [],
   "source": []
  }
 ],
 "metadata": {
  "kernelspec": {
   "display_name": "Python 3",
   "language": "python",
   "name": "python3"
  },
  "language_info": {
   "codemirror_mode": {
    "name": "ipython",
    "version": 3
   },
   "file_extension": ".py",
   "mimetype": "text/x-python",
   "name": "python",
   "nbconvert_exporter": "python",
   "pygments_lexer": "ipython3",
   "version": "3.8.5"
  }
 },
 "nbformat": 4,
 "nbformat_minor": 5
}
