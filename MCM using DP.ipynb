{
 "cells": [
  {
   "cell_type": "code",
   "execution_count": 14,
   "id": "a256a36d",
   "metadata": {},
   "outputs": [],
   "source": [
    "def mm(arr,i,j):\n",
    "\n",
    "    min_ = 1e199\n",
    "    if i>=j:\n",
    "        return 0\n",
    "    else:\n",
    "        for k in range(i,j):\n",
    "            temp = arr[i-1]*arr[j]*arr[k]+ mm(arr,i,k) + mm(arr,k+1,j)\n",
    "            min_ = min(min_,temp)\n",
    "            \n",
    "    return min_"
   ]
  },
  {
   "cell_type": "code",
   "execution_count": 21,
   "id": "30ec116d",
   "metadata": {},
   "outputs": [],
   "source": [
    "arr = [50,20,30,40]"
   ]
  },
  {
   "cell_type": "code",
   "execution_count": 22,
   "id": "c3565f95",
   "metadata": {},
   "outputs": [
    {
     "data": {
      "text/plain": [
       "64000"
      ]
     },
     "execution_count": 22,
     "metadata": {},
     "output_type": "execute_result"
    }
   ],
   "source": [
    "mm(arr,1,len(arr)-1)"
   ]
  },
  {
   "cell_type": "code",
   "execution_count": 24,
   "id": "672eb881",
   "metadata": {},
   "outputs": [
    {
     "data": {
      "text/plain": [
       "(50, 20, 20, 30, 30, 40)"
      ]
     },
     "execution_count": 24,
     "metadata": {},
     "output_type": "execute_result"
    }
   ],
   "source": [
    "50,20, 20,30, 30,40"
   ]
  },
  {
   "cell_type": "code",
   "execution_count": 25,
   "id": "f1d2bf51",
   "metadata": {},
   "outputs": [],
   "source": [
    "arr = [1, 2, 3, 4, 3]"
   ]
  },
  {
   "cell_type": "code",
   "execution_count": 26,
   "id": "0e77f6fd",
   "metadata": {},
   "outputs": [
    {
     "data": {
      "text/plain": [
       "30"
      ]
     },
     "execution_count": 26,
     "metadata": {},
     "output_type": "execute_result"
    }
   ],
   "source": [
    "mm(arr,1,len(arr)-1)"
   ]
  },
  {
   "cell_type": "code",
   "execution_count": null,
   "id": "e49b6300",
   "metadata": {},
   "outputs": [],
   "source": []
  }
 ],
 "metadata": {
  "kernelspec": {
   "display_name": "Python 3",
   "language": "python",
   "name": "python3"
  },
  "language_info": {
   "codemirror_mode": {
    "name": "ipython",
    "version": 3
   },
   "file_extension": ".py",
   "mimetype": "text/x-python",
   "name": "python",
   "nbconvert_exporter": "python",
   "pygments_lexer": "ipython3",
   "version": "3.8.5"
  }
 },
 "nbformat": 4,
 "nbformat_minor": 5
}
