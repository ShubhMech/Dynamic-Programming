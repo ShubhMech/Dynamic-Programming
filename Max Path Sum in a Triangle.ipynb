{
 "cells": [
  {
   "cell_type": "code",
   "execution_count": 86,
   "id": "64c707fe",
   "metadata": {},
   "outputs": [],
   "source": [
    "tri = [  [1, 0, 0],[4, 8, 0],[1, 5, 3] ]"
   ]
  },
  {
   "cell_type": "code",
   "execution_count": null,
   "id": "1c2ed463",
   "metadata": {},
   "outputs": [],
   "source": []
  },
  {
   "cell_type": "code",
   "execution_count": 90,
   "id": "7e492e85",
   "metadata": {},
   "outputs": [],
   "source": [
    "def pyramid_max_sum(arr,i,j,row,col):\n",
    "    if i== row-1:\n",
    "        return arr[i][j]\n",
    "    elif j == col:\n",
    "        return 0\n",
    "    else:\n",
    "        ans = arr[i][j] + max(pyramid_max_sum(arr,i+1,j,row,col),pyramid_max_sum(arr,i+1,j+1,row,col))\n",
    "        return ans\n",
    "    return ans\n",
    "    \n",
    "    "
   ]
  },
  {
   "cell_type": "code",
   "execution_count": 91,
   "id": "8212941b",
   "metadata": {},
   "outputs": [
    {
     "data": {
      "text/plain": [
       "1"
      ]
     },
     "execution_count": 91,
     "metadata": {},
     "output_type": "execute_result"
    }
   ],
   "source": [
    "tri[0][0]"
   ]
  },
  {
   "cell_type": "code",
   "execution_count": 92,
   "id": "44959735",
   "metadata": {},
   "outputs": [
    {
     "data": {
      "text/plain": [
       "14"
      ]
     },
     "execution_count": 92,
     "metadata": {},
     "output_type": "execute_result"
    }
   ],
   "source": [
    "pyramid_max_sum(tri,0,0,3,3)"
   ]
  },
  {
   "cell_type": "code",
   "execution_count": null,
   "id": "5a717750",
   "metadata": {},
   "outputs": [],
   "source": [
    "\n",
    "\n"
   ]
  }
 ],
 "metadata": {
  "kernelspec": {
   "display_name": "Python 3",
   "language": "python",
   "name": "python3"
  },
  "language_info": {
   "codemirror_mode": {
    "name": "ipython",
    "version": 3
   },
   "file_extension": ".py",
   "mimetype": "text/x-python",
   "name": "python",
   "nbconvert_exporter": "python",
   "pygments_lexer": "ipython3",
   "version": "3.8.5"
  }
 },
 "nbformat": 4,
 "nbformat_minor": 5
}
