{
 "cells": [
  {
   "cell_type": "code",
   "execution_count": 20,
   "id": "ae2da562",
   "metadata": {},
   "outputs": [],
   "source": [
    "length = [1,2,3,4,5,6,7,8]\n",
    "vals = [8,7,6,5,4,3,210,180]\n",
    "n = len(length)-1\n",
    "l = 8"
   ]
  },
  {
   "cell_type": "code",
   "execution_count": 21,
   "id": "0c9af3b0",
   "metadata": {},
   "outputs": [
    {
     "data": {
      "text/plain": [
       "7"
      ]
     },
     "execution_count": 21,
     "metadata": {},
     "output_type": "execute_result"
    }
   ],
   "source": [
    "n"
   ]
  },
  {
   "cell_type": "code",
   "execution_count": 22,
   "id": "655556f4",
   "metadata": {},
   "outputs": [],
   "source": [
    "def unbounded_knapsack(length,vals,n,l):\n",
    "    if n < 0 or l <= 0 :\n",
    "        return 0\n",
    "    elif l-length[n] < 0 :\n",
    "        return unbounded_knapsack(length,vals,n-1,l)\n",
    "    else:\n",
    "        curr_max = max(vals[n] + unbounded_knapsack(length,vals,n,l-length[n]), unbounded_knapsack(length,vals,n-1,l))\n",
    "        return curr_max"
   ]
  },
  {
   "cell_type": "code",
   "execution_count": 23,
   "id": "9de7e0af",
   "metadata": {},
   "outputs": [
    {
     "data": {
      "text/plain": [
       "218"
      ]
     },
     "execution_count": 23,
     "metadata": {},
     "output_type": "execute_result"
    }
   ],
   "source": [
    "unbounded_knapsack(length,vals,n,l)"
   ]
  },
  {
   "cell_type": "code",
   "execution_count": 24,
   "id": "a5677fce",
   "metadata": {},
   "outputs": [],
   "source": [
    "length = [1,2,3,4,5,6,7,8]\n",
    "# vals = [8,7,6,5,4,3,210,180]\n",
    "n = len(length)-1\n",
    "s = 8"
   ]
  },
  {
   "cell_type": "code",
   "execution_count": 25,
   "id": "cc4052e3",
   "metadata": {},
   "outputs": [],
   "source": [
    "t = [[0 for x in range(s+1)] for k in range(n+1)]"
   ]
  },
  {
   "cell_type": "code",
   "execution_count": 26,
   "id": "d904f11b",
   "metadata": {},
   "outputs": [
    {
     "data": {
      "text/plain": [
       "[[0, 0, 0, 0, 0, 0, 0, 0, 0],\n",
       " [0, 0, 0, 0, 0, 0, 0, 0, 0],\n",
       " [0, 0, 0, 0, 0, 0, 0, 0, 0],\n",
       " [0, 0, 0, 0, 0, 0, 0, 0, 0],\n",
       " [0, 0, 0, 0, 0, 0, 0, 0, 0],\n",
       " [0, 0, 0, 0, 0, 0, 0, 0, 0],\n",
       " [0, 0, 0, 0, 0, 0, 0, 0, 0],\n",
       " [0, 0, 0, 0, 0, 0, 0, 0, 0]]"
      ]
     },
     "execution_count": 26,
     "metadata": {},
     "output_type": "execute_result"
    }
   ],
   "source": [
    "t"
   ]
  },
  {
   "cell_type": "code",
   "execution_count": 27,
   "id": "229a6918",
   "metadata": {},
   "outputs": [],
   "source": [
    "arr = [11, 12, 3, 4, 7, 5, 15]\n",
    "sum_ = 15\n",
    "n= len(arr)\n",
    "\n",
    "t = [[0 for s in range(sum_+1)] for j in range(n+1)]\n",
    "for s in range(sum_+1):\n",
    "     for j in range(n+1):\n",
    "            if s == 0 :\n",
    "                t[j][s] = 1\n",
    "            elif j == 0 and s!= 0:\n",
    "                t[j][s] = 0\n",
    "            elif s-arr[j-1]<0:\n",
    "                t[j][s] = t[j-1][s]\n",
    "            else:\n",
    "                t[j][s] = t[j-1][s] + t[j][s-arr[j-1]]"
   ]
  },
  {
   "cell_type": "code",
   "execution_count": 29,
   "id": "8531c97d",
   "metadata": {},
   "outputs": [
    {
     "data": {
      "text/plain": [
       "9"
      ]
     },
     "execution_count": 29,
     "metadata": {},
     "output_type": "execute_result"
    }
   ],
   "source": [
    "t[j][s]\n"
   ]
  },
  {
   "cell_type": "code",
   "execution_count": 30,
   "id": "0fab6403",
   "metadata": {},
   "outputs": [],
   "source": [
    "arr = [1,2,3]\n",
    "sum_ = 4\n",
    "n= len(arr)\n",
    "\n",
    "t = [[0 for s in range(sum_+1)] for j in range(n+1)]\n",
    "for s in range(sum_+1):\n",
    "     for j in range(n+1):\n",
    "            if s == 0 :\n",
    "                t[j][s] = 1\n",
    "            elif j == 0 and s!= 0:\n",
    "                t[j][s] = 0\n",
    "            elif s-arr[j-1]<0:\n",
    "                t[j][s] = t[j-1][s]\n",
    "            else:\n",
    "                t[j][s] = t[j-1][s] + t[j][s-arr[j-1]]"
   ]
  },
  {
   "cell_type": "code",
   "execution_count": 31,
   "id": "4a36ebbc",
   "metadata": {},
   "outputs": [
    {
     "data": {
      "text/plain": [
       "4"
      ]
     },
     "execution_count": 31,
     "metadata": {},
     "output_type": "execute_result"
    }
   ],
   "source": [
    "t[j][s]"
   ]
  },
  {
   "cell_type": "code",
   "execution_count": 33,
   "id": "ca0b9d49",
   "metadata": {},
   "outputs": [],
   "source": [
    "arr = [1,2,3]\n",
    "sum_ = 4\n",
    "n= len(arr)\n",
    "\n",
    "t = [[0 for s in range(sum_+1)] for j in range(n+1)]\n",
    "for s in range(sum_+1):\n",
    "     for j in range(n+1):\n",
    "            if s == 0 :\n",
    "                t[j][s] = 0\n",
    "            elif j == 0 and s!= 0:\n",
    "                t[j][s] = float('inf') - 1\n",
    "            elif s-arr[j-1]<0:\n",
    "                t[j][s] = t[j-1][s]\n",
    "            else:\n",
    "                t[j][s] = min(t[j-1][s] , 1 + t[j][s-arr[j-1]])"
   ]
  },
  {
   "cell_type": "code",
   "execution_count": 34,
   "id": "5c841cca",
   "metadata": {},
   "outputs": [
    {
     "data": {
      "text/plain": [
       "2"
      ]
     },
     "execution_count": 34,
     "metadata": {},
     "output_type": "execute_result"
    }
   ],
   "source": [
    "t[j][s]"
   ]
  },
  {
   "cell_type": "code",
   "execution_count": 37,
   "id": "c5bc7423",
   "metadata": {},
   "outputs": [],
   "source": [
    "arr = [11, 12, 3, 4, 7, 5, 15]\n",
    "sum_ = 15\n",
    "n= len(arr)\n",
    "# arr = [1,2,3]\n",
    "# sum_ = 4\n",
    "# n= len(arr)\n",
    "\n",
    "t = [[0 for s in range(sum_+1)] for j in range(n+1)]\n",
    "for s in range(sum_+1):\n",
    "     for j in range(n+1):\n",
    "            if s == 0 :\n",
    "                t[j][s] = 0\n",
    "            elif j == 0 and s!= 0:\n",
    "                t[j][s] = float('inf') - 1\n",
    "            elif s-arr[j-1]<0:\n",
    "                t[j][s] = t[j-1][s]\n",
    "            else:\n",
    "                t[j][s] = min(t[j-1][s] , 1 + t[j][s-arr[j-1]])"
   ]
  },
  {
   "cell_type": "code",
   "execution_count": 38,
   "id": "3adc8552",
   "metadata": {},
   "outputs": [
    {
     "data": {
      "text/plain": [
       "1"
      ]
     },
     "execution_count": 38,
     "metadata": {},
     "output_type": "execute_result"
    }
   ],
   "source": [
    "t[j][s]"
   ]
  },
  {
   "cell_type": "code",
   "execution_count": 42,
   "id": "ff600ba1",
   "metadata": {},
   "outputs": [],
   "source": [
    "arr = [11, 12, 3, 4, 7, 5]\n",
    "sum_ = 15\n",
    "n= len(arr)\n",
    "# arr = [1,2,3]\n",
    "# sum_ = 4\n",
    "# n= len(arr)\n",
    "\n",
    "t = [[0 for s in range(sum_+1)] for j in range(n+1)]\n",
    "for s in range(sum_+1):\n",
    "    \n",
    "     for j in range(n+1):\n",
    "            if s == 0 :\n",
    "                t[j][s] = 0\n",
    "            elif j == 0 and s!= 0:\n",
    "                t[j][s] = float('inf') - 1\n",
    "            elif s-arr[j-1]<0:\n",
    "                t[j][s] = t[j-1][s]\n",
    "            else:\n",
    "                t[j][s] = min(t[j-1][s] , 1 + t[j][s-arr[j-1]])"
   ]
  },
  {
   "cell_type": "code",
   "execution_count": 43,
   "id": "e5337d52",
   "metadata": {},
   "outputs": [
    {
     "data": {
      "text/plain": [
       "2"
      ]
     },
     "execution_count": 43,
     "metadata": {},
     "output_type": "execute_result"
    }
   ],
   "source": [
    "t[j][s]"
   ]
  },
  {
   "cell_type": "code",
   "execution_count": 44,
   "id": "f9079760",
   "metadata": {},
   "outputs": [
    {
     "data": {
      "text/plain": [
       "[[0,\n",
       "  inf,\n",
       "  inf,\n",
       "  inf,\n",
       "  inf,\n",
       "  inf,\n",
       "  inf,\n",
       "  inf,\n",
       "  inf,\n",
       "  inf,\n",
       "  inf,\n",
       "  inf,\n",
       "  inf,\n",
       "  inf,\n",
       "  inf,\n",
       "  inf],\n",
       " [0, inf, inf, inf, inf, inf, inf, inf, inf, inf, inf, 1, inf, inf, inf, inf],\n",
       " [0, inf, inf, inf, inf, inf, inf, inf, inf, inf, inf, 1, 1, inf, inf, inf],\n",
       " [0, inf, inf, 1, inf, inf, 2, inf, inf, 3, inf, 1, 1, inf, 2, 2],\n",
       " [0, inf, inf, 1, 1, inf, 2, 2, 2, 3, 3, 1, 1, 4, 2, 2],\n",
       " [0, inf, inf, 1, 1, inf, 2, 1, 2, 3, 2, 1, 1, 3, 2, 2],\n",
       " [0, inf, inf, 1, 1, 1, 2, 1, 2, 2, 2, 1, 1, 3, 2, 2]]"
      ]
     },
     "execution_count": 44,
     "metadata": {},
     "output_type": "execute_result"
    }
   ],
   "source": [
    "t"
   ]
  },
  {
   "cell_type": "code",
   "execution_count": null,
   "id": "f3c094a6",
   "metadata": {},
   "outputs": [],
   "source": [
    " "
   ]
  },
  {
   "cell_type": "code",
   "execution_count": 45,
   "id": "3ee5a08b",
   "metadata": {},
   "outputs": [],
   "source": [
    "def lcs(arr1,arr2,n,m):\n",
    "    if m==0 or n==0:\n",
    "        return 0\n",
    "    elif arr1[n-1]==arr2[m-1]:\n",
    "        return 1+ lcs(arr1,arr2,n-1,m-1)\n",
    "    else:\n",
    "        return max(lcs(arr1,arr2,n-1,m),lcs(arr1,arr2,n,m-1))"
   ]
  },
  {
   "cell_type": "code",
   "execution_count": 53,
   "id": "896fd130",
   "metadata": {},
   "outputs": [
    {
     "data": {
      "text/plain": [
       "4"
      ]
     },
     "execution_count": 53,
     "metadata": {},
     "output_type": "execute_result"
    }
   ],
   "source": [
    "lcs([\"a\",\"b\",\"e\",\"c\",\"d\"],[\"a\",\"b\",\"c\",\"d\"],5,4)"
   ]
  },
  {
   "cell_type": "code",
   "execution_count": null,
   "id": "f64567f5",
   "metadata": {},
   "outputs": [],
   "source": []
  }
 ],
 "metadata": {
  "kernelspec": {
   "display_name": "Python 3",
   "language": "python",
   "name": "python3"
  },
  "language_info": {
   "codemirror_mode": {
    "name": "ipython",
    "version": 3
   },
   "file_extension": ".py",
   "mimetype": "text/x-python",
   "name": "python",
   "nbconvert_exporter": "python",
   "pygments_lexer": "ipython3",
   "version": "3.8.5"
  }
 },
 "nbformat": 4,
 "nbformat_minor": 5
}
