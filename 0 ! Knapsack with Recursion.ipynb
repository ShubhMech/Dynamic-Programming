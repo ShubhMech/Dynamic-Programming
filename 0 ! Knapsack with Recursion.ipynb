{
 "cells": [
  {
   "cell_type": "code",
   "execution_count": 59,
   "id": "795212b2",
   "metadata": {},
   "outputs": [],
   "source": [
    "def knap_recur(arr,n,wt):\n",
    "    print(n)\n",
    "    if n<=0 or wt<=0 :\n",
    "        print(\"Nope\")\n",
    "        return 0\n",
    "    \n",
    "    elif wt-arr[n]<0:\n",
    "        return knap_recur(arr,n-1,wt)\n",
    "    \n",
    "    else:\n",
    "        print(\"Yes\")\n",
    "        ans = max(knap_recur(arr,n-1,wt-arr[n])+val[n], knap_recur(arr,n-1,wt))\n",
    "        return ans"
   ]
  },
  {
   "cell_type": "code",
   "execution_count": 65,
   "id": "9f2206ee",
   "metadata": {},
   "outputs": [],
   "source": [
    "arr=[3,5,4,3,2]\n",
    "val=[1,2,3,4,5]\n",
    "wt =8"
   ]
  },
  {
   "cell_type": "code",
   "execution_count": 66,
   "id": "cbd74a75",
   "metadata": {},
   "outputs": [
    {
     "name": "stdout",
     "output_type": "stream",
     "text": [
      "4\n",
      "Yes\n",
      "3\n",
      "Yes\n",
      "2\n",
      "1\n",
      "0\n",
      "Nope\n",
      "2\n",
      "Yes\n",
      "1\n",
      "0\n",
      "Nope\n",
      "1\n",
      "Yes\n",
      "0\n",
      "Nope\n",
      "0\n",
      "Nope\n",
      "3\n",
      "Yes\n",
      "2\n",
      "Yes\n",
      "1\n",
      "0\n",
      "Nope\n",
      "1\n",
      "Yes\n",
      "0\n",
      "Nope\n",
      "0\n",
      "Nope\n",
      "2\n",
      "Yes\n",
      "1\n",
      "0\n",
      "Nope\n",
      "1\n",
      "Yes\n",
      "0\n",
      "Nope\n",
      "0\n",
      "Nope\n"
     ]
    },
    {
     "data": {
      "text/plain": [
       "9"
      ]
     },
     "execution_count": 66,
     "metadata": {},
     "output_type": "execute_result"
    }
   ],
   "source": [
    "knap_recur(arr,4,wt)"
   ]
  },
  {
   "cell_type": "code",
   "execution_count": 62,
   "id": "57066c1b",
   "metadata": {},
   "outputs": [],
   "source": [
    "val = [60, 100, 120]\n",
    "arr = [10, 20, 30]"
   ]
  },
  {
   "cell_type": "code",
   "execution_count": 63,
   "id": "e3b5f2ef",
   "metadata": {},
   "outputs": [],
   "source": [
    "wt = 30"
   ]
  },
  {
   "cell_type": "code",
   "execution_count": 64,
   "id": "eed4cf16",
   "metadata": {},
   "outputs": [
    {
     "name": "stdout",
     "output_type": "stream",
     "text": [
      "2\n",
      "Yes\n",
      "1\n",
      "Nope\n",
      "1\n",
      "Yes\n",
      "0\n",
      "Nope\n",
      "0\n",
      "Nope\n"
     ]
    },
    {
     "data": {
      "text/plain": [
       "120"
      ]
     },
     "execution_count": 64,
     "metadata": {},
     "output_type": "execute_result"
    }
   ],
   "source": [
    "knap_recur(arr,2,wt)"
   ]
  },
  {
   "cell_type": "code",
   "execution_count": null,
   "id": "aa60be46",
   "metadata": {},
   "outputs": [],
   "source": []
  },
  {
   "cell_type": "code",
   "execution_count": null,
   "id": "72d4a9a4",
   "metadata": {},
   "outputs": [],
   "source": []
  }
 ],
 "metadata": {
  "kernelspec": {
   "display_name": "Python 3",
   "language": "python",
   "name": "python3"
  },
  "language_info": {
   "codemirror_mode": {
    "name": "ipython",
    "version": 3
   },
   "file_extension": ".py",
   "mimetype": "text/x-python",
   "name": "python",
   "nbconvert_exporter": "python",
   "pygments_lexer": "ipython3",
   "version": "3.8.5"
  }
 },
 "nbformat": 4,
 "nbformat_minor": 5
}
