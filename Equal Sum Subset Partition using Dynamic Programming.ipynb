{
 "cells": [
  {
   "cell_type": "code",
   "execution_count": 174,
   "id": "199b46ec",
   "metadata": {},
   "outputs": [],
   "source": [
    "arr = [10, 20, 30]\n",
    "sum_ = 51\n",
    "n= len(arr)\n",
    "\n",
    "\n",
    "arr= [12,13,14,107]\n",
    "sum_ = 28\n",
    "n= len(arr)"
   ]
  },
  {
   "cell_type": "code",
   "execution_count": 175,
   "id": "504c9a6c",
   "metadata": {},
   "outputs": [],
   "source": [
    "def afunc(arr,n,w):\n",
    "    t = [[False for s in range(sum_+1)] for j in range(n+1)]\n",
    "    for s in range(sum_+1):\n",
    "         for j in range(n+1):\n",
    "            if s == 0 :\n",
    "                t[j][s] = True\n",
    "            elif j == 0 and s!= 0:\n",
    "                t[j][s] = False\n",
    "            elif s-arr[j-1]<0:\n",
    "                t[j][s] = t[j-1][s]\n",
    "            else:\n",
    "                t[j][s] = t[j-1][s] | t[j-1][s-arr[j-1]]\n",
    "    return t[j][s]\n",
    "           "
   ]
  },
  {
   "cell_type": "code",
   "execution_count": 176,
   "id": "0ea1be8d",
   "metadata": {},
   "outputs": [
    {
     "name": "stdout",
     "output_type": "stream",
     "text": [
      "12\n",
      "25\n",
      "Nope\n",
      "39\n",
      "Nope\n",
      "146\n",
      "Sending the code for checking the equal sum subsets\n",
      "False\n"
     ]
    }
   ],
   "source": [
    "equal_sum_partition(arr,4)"
   ]
  },
  {
   "cell_type": "code",
   "execution_count": 177,
   "id": "ba9ba9d3",
   "metadata": {},
   "outputs": [
    {
     "data": {
      "text/plain": [
       "True"
      ]
     },
     "execution_count": 177,
     "metadata": {},
     "output_type": "execute_result"
    }
   ],
   "source": [
    "t[-1][-1]"
   ]
  },
  {
   "cell_type": "code",
   "execution_count": 179,
   "id": "1ab0648a",
   "metadata": {},
   "outputs": [
    {
     "data": {
      "text/plain": [
       "False"
      ]
     },
     "execution_count": 179,
     "metadata": {},
     "output_type": "execute_result"
    }
   ],
   "source": [
    "afunc(arr,4,73)"
   ]
  },
  {
   "cell_type": "code",
   "execution_count": 184,
   "id": "5b538ecc",
   "metadata": {},
   "outputs": [],
   "source": [
    "def equal_sum_partition(arr,n):\n",
    "    sum = 0\n",
    "    for i in range(len(arr)):\n",
    "        sum += arr[i]\n",
    "        print(sum)\n",
    "        \n",
    "        if sum % 2 == 0 :\n",
    "            print(\"Sending the code for checking the equal sum subsets\")\n",
    "\n",
    "            print(afunc(arr,i,sum/2))\n",
    "        else:\n",
    "            print(\"Nope\")"
   ]
  },
  {
   "cell_type": "code",
   "execution_count": 185,
   "id": "3f2b01f9",
   "metadata": {},
   "outputs": [
    {
     "name": "stdout",
     "output_type": "stream",
     "text": [
      "12\n",
      "Sending the code for checking the equal sum subsets\n",
      "False\n",
      "25\n",
      "Nope\n",
      "39\n",
      "Nope\n",
      "146\n",
      "Sending the code for checking the equal sum subsets\n",
      "False\n"
     ]
    }
   ],
   "source": [
    "equal_sum_partition(arr,4)"
   ]
  },
  {
   "cell_type": "code",
   "execution_count": null,
   "id": "5be1f305",
   "metadata": {},
   "outputs": [],
   "source": []
  }
 ],
 "metadata": {
  "kernelspec": {
   "display_name": "Python 3",
   "language": "python",
   "name": "python3"
  },
  "language_info": {
   "codemirror_mode": {
    "name": "ipython",
    "version": 3
   },
   "file_extension": ".py",
   "mimetype": "text/x-python",
   "name": "python",
   "nbconvert_exporter": "python",
   "pygments_lexer": "ipython3",
   "version": "3.8.5"
  }
 },
 "nbformat": 4,
 "nbformat_minor": 5
}
