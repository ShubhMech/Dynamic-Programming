{
 "cells": [
  {
   "cell_type": "code",
   "execution_count": 63,
   "id": "6f891da9",
   "metadata": {},
   "outputs": [],
   "source": [
    "arr= [12,13,14,13]\n",
    "wt = 25\n",
    "n= len(arr)"
   ]
  },
  {
   "cell_type": "code",
   "execution_count": 64,
   "id": "6f4b88a2",
   "metadata": {},
   "outputs": [],
   "source": [
    "t = [[-1 for x in range(wt+1)] for j in range(n+1)]"
   ]
  },
  {
   "cell_type": "code",
   "execution_count": 65,
   "id": "064aa3dc",
   "metadata": {},
   "outputs": [
    {
     "data": {
      "text/plain": [
       "-1"
      ]
     },
     "execution_count": 65,
     "metadata": {},
     "output_type": "execute_result"
    }
   ],
   "source": [
    "t[3][4]"
   ]
  },
  {
   "cell_type": "code",
   "execution_count": 66,
   "id": "a0917010",
   "metadata": {},
   "outputs": [],
   "source": [
    "def afunc(arr,n,w):\n",
    "    t = [[-1 for x in range(wt+1)] for j in range(n+1)]\n",
    "    for nn in range(n+1):\n",
    "        for w in range(wt+1):\n",
    "            if nn ==0 and w!= 0:\n",
    "                t[nn][w]  = False\n",
    "            elif w == 0:\n",
    "                t[nn][w] = True\n",
    "            elif w-arr[nn-1]<0:\n",
    "                t[nn][w] = t[nn-1][w]\n",
    "            else:\n",
    "                t[nn][w] = t[nn-1][w-arr[nn-1]] | t[nn-1][w]\n",
    "    return t[nn][w]"
   ]
  },
  {
   "cell_type": "code",
   "execution_count": 69,
   "id": "94949f94",
   "metadata": {},
   "outputs": [],
   "source": [
    "# t[nn][w]"
   ]
  },
  {
   "cell_type": "code",
   "execution_count": 68,
   "id": "1bceffd7",
   "metadata": {},
   "outputs": [
    {
     "data": {
      "text/plain": [
       "True"
      ]
     },
     "execution_count": 68,
     "metadata": {},
     "output_type": "execute_result"
    }
   ],
   "source": [
    "afunc(arr,4,25)"
   ]
  },
  {
   "cell_type": "code",
   "execution_count": 70,
   "id": "b8521eca",
   "metadata": {},
   "outputs": [],
   "source": [
    "def equal_sum_partition(arr,n,w):\n",
    "    sum = 0\n",
    "    for i in range(len(arr)):\n",
    "        sum += arr[i]\n",
    "        print(sum)\n",
    "        if i>=1:\n",
    "            if sum % 2 == 0 :\n",
    "                \n",
    "                print(afunc(arr,i,sum/2))\n",
    "            else:\n",
    "                print(\"Nope\")\n",
    "                "
   ]
  },
  {
   "cell_type": "code",
   "execution_count": 71,
   "id": "7e2b4b10",
   "metadata": {},
   "outputs": [
    {
     "name": "stdout",
     "output_type": "stream",
     "text": [
      "12\n",
      "25\n",
      "Nope\n",
      "39\n",
      "Nope\n",
      "52\n",
      "True\n"
     ]
    }
   ],
   "source": [
    "equal_sum_partition(arr,3,w)"
   ]
  },
  {
   "cell_type": "code",
   "execution_count": 72,
   "id": "ea7eb22e",
   "metadata": {},
   "outputs": [
    {
     "data": {
      "text/plain": [
       "[12, 13, 14, 13]"
      ]
     },
     "execution_count": 72,
     "metadata": {},
     "output_type": "execute_result"
    }
   ],
   "source": [
    "arr"
   ]
  },
  {
   "cell_type": "code",
   "execution_count": null,
   "id": "d873da3b",
   "metadata": {},
   "outputs": [],
   "source": []
  }
 ],
 "metadata": {
  "kernelspec": {
   "display_name": "Python 3",
   "language": "python",
   "name": "python3"
  },
  "language_info": {
   "codemirror_mode": {
    "name": "ipython",
    "version": 3
   },
   "file_extension": ".py",
   "mimetype": "text/x-python",
   "name": "python",
   "nbconvert_exporter": "python",
   "pygments_lexer": "ipython3",
   "version": "3.8.5"
  }
 },
 "nbformat": 4,
 "nbformat_minor": 5
}
