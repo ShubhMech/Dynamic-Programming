{
 "cells": [
  {
   "cell_type": "code",
   "execution_count": 20,
   "id": "9af8c7c4",
   "metadata": {},
   "outputs": [],
   "source": [
    "length = [1,2,3,4,5,6,7,8]\n",
    "vals = [8,7,6,5,4,3,210,180]\n",
    "n = len(length)-1\n",
    "l = 8"
   ]
  },
  {
   "cell_type": "code",
   "execution_count": 21,
   "id": "3e281d3f",
   "metadata": {},
   "outputs": [
    {
     "data": {
      "text/plain": [
       "7"
      ]
     },
     "execution_count": 21,
     "metadata": {},
     "output_type": "execute_result"
    }
   ],
   "source": [
    "n"
   ]
  },
  {
   "cell_type": "code",
   "execution_count": 22,
   "id": "7e2004cf",
   "metadata": {},
   "outputs": [],
   "source": [
    "def unbounded_knapsack(length,vals,n,l):\n",
    "    if n < 0 or l <= 0 :\n",
    "        return 0\n",
    "    elif l-length[n] < 0 :\n",
    "        return unbounded_knapsack(length,vals,n-1,l)\n",
    "    else:\n",
    "        curr_max = max(vals[n] + unbounded_knapsack(length,vals,n,l-length[n]), unbounded_knapsack(length,vals,n-1,l))\n",
    "        return curr_max"
   ]
  },
  {
   "cell_type": "code",
   "execution_count": 23,
   "id": "88ae3183",
   "metadata": {},
   "outputs": [
    {
     "data": {
      "text/plain": [
       "218"
      ]
     },
     "execution_count": 23,
     "metadata": {},
     "output_type": "execute_result"
    }
   ],
   "source": [
    "unbounded_knapsack(length,vals,n,l)"
   ]
  },
  {
   "cell_type": "code",
   "execution_count": 24,
   "id": "f4250f8e",
   "metadata": {},
   "outputs": [],
   "source": [
    "length = [1,2,3,4,5,6,7,8]\n",
    "# vals = [8,7,6,5,4,3,210,180]\n",
    "n = len(length)-1\n",
    "s = 8"
   ]
  },
  {
   "cell_type": "code",
   "execution_count": 25,
   "id": "6149430c",
   "metadata": {},
   "outputs": [],
   "source": [
    "t = [[0 for x in range(s+1)] for k in range(n+1)]"
   ]
  },
  {
   "cell_type": "code",
   "execution_count": 26,
   "id": "1861a02d",
   "metadata": {},
   "outputs": [
    {
     "data": {
      "text/plain": [
       "[[0, 0, 0, 0, 0, 0, 0, 0, 0],\n",
       " [0, 0, 0, 0, 0, 0, 0, 0, 0],\n",
       " [0, 0, 0, 0, 0, 0, 0, 0, 0],\n",
       " [0, 0, 0, 0, 0, 0, 0, 0, 0],\n",
       " [0, 0, 0, 0, 0, 0, 0, 0, 0],\n",
       " [0, 0, 0, 0, 0, 0, 0, 0, 0],\n",
       " [0, 0, 0, 0, 0, 0, 0, 0, 0],\n",
       " [0, 0, 0, 0, 0, 0, 0, 0, 0]]"
      ]
     },
     "execution_count": 26,
     "metadata": {},
     "output_type": "execute_result"
    }
   ],
   "source": [
    "t"
   ]
  },
  {
   "cell_type": "code",
   "execution_count": 27,
   "id": "0a9f020b",
   "metadata": {},
   "outputs": [],
   "source": [
    "arr = [11, 12, 3, 4, 7, 5, 15]\n",
    "sum_ = 15\n",
    "n= len(arr)\n",
    "\n",
    "t = [[0 for s in range(sum_+1)] for j in range(n+1)]\n",
    "for s in range(sum_+1):\n",
    "     for j in range(n+1):\n",
    "            if s == 0 :\n",
    "                t[j][s] = 1\n",
    "            elif j == 0 and s!= 0:\n",
    "                t[j][s] = 0\n",
    "            elif s-arr[j-1]<0:\n",
    "                t[j][s] = t[j-1][s]\n",
    "            else:\n",
    "                t[j][s] = t[j-1][s] + t[j][s-arr[j-1]]"
   ]
  },
  {
   "cell_type": "code",
   "execution_count": 29,
   "id": "0c434f4c",
   "metadata": {},
   "outputs": [
    {
     "data": {
      "text/plain": [
       "9"
      ]
     },
     "execution_count": 29,
     "metadata": {},
     "output_type": "execute_result"
    }
   ],
   "source": [
    "t[j][s]\n"
   ]
  },
  {
   "cell_type": "code",
   "execution_count": 30,
   "id": "b249b4dc",
   "metadata": {},
   "outputs": [],
   "source": [
    "arr = [1,2,3]\n",
    "sum_ = 4\n",
    "n= len(arr)\n",
    "\n",
    "t = [[0 for s in range(sum_+1)] for j in range(n+1)]\n",
    "for s in range(sum_+1):\n",
    "     for j in range(n+1):\n",
    "            if s == 0 :\n",
    "                t[j][s] = 1\n",
    "            elif j == 0 and s!= 0:\n",
    "                t[j][s] = 0\n",
    "            elif s-arr[j-1]<0:\n",
    "                t[j][s] = t[j-1][s]\n",
    "            else:\n",
    "                t[j][s] = t[j-1][s] + t[j][s-arr[j-1]]"
   ]
  },
  {
   "cell_type": "code",
   "execution_count": 31,
   "id": "d3529039",
   "metadata": {},
   "outputs": [
    {
     "data": {
      "text/plain": [
       "4"
      ]
     },
     "execution_count": 31,
     "metadata": {},
     "output_type": "execute_result"
    }
   ],
   "source": [
    "t[j][s]"
   ]
  },
  {
   "cell_type": "code",
   "execution_count": 33,
   "id": "d9bc5aa1",
   "metadata": {},
   "outputs": [],
   "source": [
    "arr = [1,2,3]\n",
    "sum_ = 4\n",
    "n= len(arr)\n",
    "\n",
    "t = [[0 for s in range(sum_+1)] for j in range(n+1)]\n",
    "for s in range(sum_+1):\n",
    "     for j in range(n+1):\n",
    "            if s == 0 :\n",
    "                t[j][s] = 0\n",
    "            elif j == 0 and s!= 0:\n",
    "                t[j][s] = float('inf') - 1\n",
    "            elif s-arr[j-1]<0:\n",
    "                t[j][s] = t[j-1][s]\n",
    "            else:\n",
    "                t[j][s] = min(t[j-1][s] , 1 + t[j][s-arr[j-1]])"
   ]
  },
  {
   "cell_type": "code",
   "execution_count": 34,
   "id": "4c68a30d",
   "metadata": {},
   "outputs": [
    {
     "data": {
      "text/plain": [
       "2"
      ]
     },
     "execution_count": 34,
     "metadata": {},
     "output_type": "execute_result"
    }
   ],
   "source": [
    "t[j][s]"
   ]
  },
  {
   "cell_type": "code",
   "execution_count": 37,
   "id": "1807bb28",
   "metadata": {},
   "outputs": [],
   "source": [
    "arr = [11, 12, 3, 4, 7, 5, 15]\n",
    "sum_ = 15\n",
    "n= len(arr)\n",
    "# arr = [1,2,3]\n",
    "# sum_ = 4\n",
    "# n= len(arr)\n",
    "\n",
    "t = [[0 for s in range(sum_+1)] for j in range(n+1)]\n",
    "for s in range(sum_+1):\n",
    "     for j in range(n+1):\n",
    "            if s == 0 :\n",
    "                t[j][s] = 0\n",
    "            elif j == 0 and s!= 0:\n",
    "                t[j][s] = float('inf') - 1\n",
    "            elif s-arr[j-1]<0:\n",
    "                t[j][s] = t[j-1][s]\n",
    "            else:\n",
    "                t[j][s] = min(t[j-1][s] , 1 + t[j][s-arr[j-1]])"
   ]
  },
  {
   "cell_type": "code",
   "execution_count": 38,
   "id": "2a99cc0f",
   "metadata": {},
   "outputs": [
    {
     "data": {
      "text/plain": [
       "1"
      ]
     },
     "execution_count": 38,
     "metadata": {},
     "output_type": "execute_result"
    }
   ],
   "source": [
    "t[j][s]"
   ]
  },
  {
   "cell_type": "code",
   "execution_count": 42,
   "id": "8631e7d9",
   "metadata": {},
   "outputs": [],
   "source": [
    "arr = [11, 12, 3, 4, 7, 5]\n",
    "sum_ = 15\n",
    "n= len(arr)\n",
    "# arr = [1,2,3]\n",
    "# sum_ = 4\n",
    "# n= len(arr)\n",
    "\n",
    "t = [[0 for s in range(sum_+1)] for j in range(n+1)]\n",
    "for s in range(sum_+1):\n",
    "    \n",
    "     for j in range(n+1):\n",
    "            if s == 0 :\n",
    "                t[j][s] = 0\n",
    "            elif j == 0 and s!= 0:\n",
    "                t[j][s] = float('inf') - 1\n",
    "            elif s-arr[j-1]<0:\n",
    "                t[j][s] = t[j-1][s]\n",
    "            else:\n",
    "                t[j][s] = min(t[j-1][s] , 1 + t[j][s-arr[j-1]])"
   ]
  },
  {
   "cell_type": "code",
   "execution_count": 43,
   "id": "16804a71",
   "metadata": {},
   "outputs": [
    {
     "data": {
      "text/plain": [
       "2"
      ]
     },
     "execution_count": 43,
     "metadata": {},
     "output_type": "execute_result"
    }
   ],
   "source": [
    "t[j][s]"
   ]
  },
  {
   "cell_type": "code",
   "execution_count": 44,
   "id": "d82eb01a",
   "metadata": {},
   "outputs": [
    {
     "data": {
      "text/plain": [
       "[[0,\n",
       "  inf,\n",
       "  inf,\n",
       "  inf,\n",
       "  inf,\n",
       "  inf,\n",
       "  inf,\n",
       "  inf,\n",
       "  inf,\n",
       "  inf,\n",
       "  inf,\n",
       "  inf,\n",
       "  inf,\n",
       "  inf,\n",
       "  inf,\n",
       "  inf],\n",
       " [0, inf, inf, inf, inf, inf, inf, inf, inf, inf, inf, 1, inf, inf, inf, inf],\n",
       " [0, inf, inf, inf, inf, inf, inf, inf, inf, inf, inf, 1, 1, inf, inf, inf],\n",
       " [0, inf, inf, 1, inf, inf, 2, inf, inf, 3, inf, 1, 1, inf, 2, 2],\n",
       " [0, inf, inf, 1, 1, inf, 2, 2, 2, 3, 3, 1, 1, 4, 2, 2],\n",
       " [0, inf, inf, 1, 1, inf, 2, 1, 2, 3, 2, 1, 1, 3, 2, 2],\n",
       " [0, inf, inf, 1, 1, 1, 2, 1, 2, 2, 2, 1, 1, 3, 2, 2]]"
      ]
     },
     "execution_count": 44,
     "metadata": {},
     "output_type": "execute_result"
    }
   ],
   "source": [
    "t"
   ]
  },
  {
   "cell_type": "code",
   "execution_count": null,
   "id": "01495c43",
   "metadata": {},
   "outputs": [],
   "source": [
    " "
   ]
  },
  {
   "cell_type": "code",
   "execution_count": 45,
   "id": "37d2db32",
   "metadata": {},
   "outputs": [],
   "source": [
    "def lcs(arr1,arr2,n,m):\n",
    "    if m==0 or n==0:\n",
    "        return 0\n",
    "    elif arr1[n-1]==arr2[m-1]:\n",
    "        return 1+ lcs(arr1,arr2,n-1,m-1)\n",
    "    else:\n",
    "        return max(lcs(arr1,arr2,n-1,m),lcs(arr1,arr2,n,m-1))"
   ]
  },
  {
   "cell_type": "code",
   "execution_count": 53,
   "id": "196a1586",
   "metadata": {},
   "outputs": [
    {
     "data": {
      "text/plain": [
       "4"
      ]
     },
     "execution_count": 53,
     "metadata": {},
     "output_type": "execute_result"
    }
   ],
   "source": [
    "lcs([\"a\",\"b\",\"e\",\"c\",\"d\"],[\"a\",\"b\",\"c\",\"d\"],5,4)"
   ]
  },
  {
   "cell_type": "code",
   "execution_count": 57,
   "id": "03f0bd91",
   "metadata": {},
   "outputs": [],
   "source": [
    "n=5\n",
    "m=4\n",
    "arr1 = [\"a\",\"b\",\"e\",\"c\",\"d\"]\n",
    "arr2 = [\"a\",\"b\",\"c\",\"d\"]\n"
   ]
  },
  {
   "cell_type": "code",
   "execution_count": 111,
   "id": "4589c3eb",
   "metadata": {},
   "outputs": [],
   "source": [
    "t = [[-1 for x in range(m+1)]for j in range(n+1)]\n",
    "\n",
    "def lcs(arr1,arr2,n,m,t):\n",
    "    \n",
    "    print(n,m)\n",
    "    \n",
    "    if m<=0 or n<=0:\n",
    "        return 0\n",
    "    \n",
    "    elif arr1[n-1]==arr2[m-1]:\n",
    "        t[n][m] = 1+ lcs(arr1,arr2,n-1,m-1,t)\n",
    "        return t[n][m]\n",
    "    \n",
    "    else:\n",
    "        if t[n][m] != -1:\n",
    "            \n",
    "            t[n][m] = max(t[n-1][m], t[n][m-1])\n",
    "            return t[n][m]\n",
    "            \n",
    "        else:\n",
    "            t[n][m] = max(lcs(arr1,arr2,n-1,m,t),lcs(arr1,arr2,n,m-1,t))\n",
    "            return t[n][m]\n",
    "        \n",
    "        \n",
    "    \n",
    "    return t[-1][-1]"
   ]
  },
  {
   "cell_type": "code",
   "execution_count": 112,
   "id": "cce9212a",
   "metadata": {},
   "outputs": [
    {
     "name": "stdout",
     "output_type": "stream",
     "text": [
      "5 4\n",
      "4 3\n",
      "3 2\n",
      "2 2\n",
      "1 1\n",
      "0 0\n",
      "3 1\n",
      "2 1\n",
      "1 1\n",
      "0 0\n",
      "2 0\n",
      "3 0\n"
     ]
    },
    {
     "data": {
      "text/plain": [
       "4"
      ]
     },
     "execution_count": 112,
     "metadata": {},
     "output_type": "execute_result"
    }
   ],
   "source": [
    "lcs(arr1,arr2,n,m,t)"
   ]
  },
  {
   "cell_type": "code",
   "execution_count": null,
   "id": "d2e7b4dc",
   "metadata": {},
   "outputs": [],
   "source": []
  },
  {
   "cell_type": "code",
   "execution_count": null,
   "id": "90749b87",
   "metadata": {},
   "outputs": [],
   "source": []
  },
  {
   "cell_type": "code",
   "execution_count": 116,
   "id": "e26474d1",
   "metadata": {},
   "outputs": [
    {
     "data": {
      "text/plain": [
       "[-1, -1, -1, 3, -1]"
      ]
     },
     "execution_count": 116,
     "metadata": {},
     "output_type": "execute_result"
    }
   ],
   "source": [
    "t[4]"
   ]
  },
  {
   "cell_type": "code",
   "execution_count": 115,
   "id": "6307599f",
   "metadata": {},
   "outputs": [
    {
     "data": {
      "text/plain": [
       "[-1, -1, -1, -1, -1]"
      ]
     },
     "execution_count": 115,
     "metadata": {},
     "output_type": "execute_result"
    }
   ],
   "source": [
    "t[0]"
   ]
  },
  {
   "cell_type": "code",
   "execution_count": 114,
   "id": "2dd06bee",
   "metadata": {},
   "outputs": [
    {
     "data": {
      "text/plain": [
       "[[-1, -1, -1, -1, -1],\n",
       " [-1, 1, -1, -1, -1],\n",
       " [-1, 1, 2, -1, -1],\n",
       " [-1, 1, 2, -1, -1],\n",
       " [-1, -1, -1, 3, -1],\n",
       " [-1, -1, -1, -1, 4]]"
      ]
     },
     "execution_count": 114,
     "metadata": {},
     "output_type": "execute_result"
    }
   ],
   "source": [
    "t"
   ]
  },
  {
   "cell_type": "code",
   "execution_count": null,
   "id": "fbce7bae",
   "metadata": {},
   "outputs": [],
   "source": []
  },
  {
   "cell_type": "code",
   "execution_count": null,
   "id": "d3681628",
   "metadata": {},
   "outputs": [],
   "source": []
  }
 ],
 "metadata": {
  "kernelspec": {
   "display_name": "Python 3",
   "language": "python",
   "name": "python3"
  },
  "language_info": {
   "codemirror_mode": {
    "name": "ipython",
    "version": 3
   },
   "file_extension": ".py",
   "mimetype": "text/x-python",
   "name": "python",
   "nbconvert_exporter": "python",
   "pygments_lexer": "ipython3",
   "version": "3.8.5"
  }
 },
 "nbformat": 4,
 "nbformat_minor": 5
}
