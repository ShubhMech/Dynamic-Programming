{
 "cells": [
  {
   "cell_type": "code",
   "execution_count": 313,
   "id": "d5d807e6",
   "metadata": {},
   "outputs": [],
   "source": [
    "def ispalindrome(arr,i,j):\n",
    "#     arr2=arr[i:j+1]\n",
    "    \n",
    "    start = i\n",
    "    end = j\n",
    "    \n",
    "    while start<end:\n",
    "        if arr[start] != arr[end]:\n",
    "            return False\n",
    "        else:\n",
    "            start +=1\n",
    "            end -= 1\n",
    "        return True\n",
    "\n",
    "    "
   ]
  },
  {
   "cell_type": "code",
   "execution_count": 285,
   "id": "6a7dc4df",
   "metadata": {},
   "outputs": [],
   "source": [
    "# def ispalindrome(s, start, end):\n",
    "#     while start < end:\n",
    "#         if s[start] != s[end]:\n",
    "#             return 0\n",
    "#         start += 1\n",
    "#         end -= 1\n",
    "#     return 1"
   ]
  },
  {
   "cell_type": "code",
   "execution_count": 314,
   "id": "753b72d6",
   "metadata": {},
   "outputs": [
    {
     "data": {
      "text/plain": [
       "2"
      ]
     },
     "execution_count": 314,
     "metadata": {},
     "output_type": "execute_result"
    }
   ],
   "source": [
    "def ispalindrome(arr,i,j):\n",
    "#     arr2=arr[i:j+1]\n",
    "    \n",
    "    start = i\n",
    "    end = j\n",
    "    \n",
    "    while start<=end:\n",
    "        if arr[start] != arr[end]:\n",
    "            return False\n",
    "        \n",
    "        start +=1\n",
    "        end -= 1\n",
    "        return True\n",
    "\n",
    "\n",
    "def mm(arr,i,j):\n",
    "    \n",
    "    min_= 1e199\n",
    "\n",
    "    if i>=j or ispalindrome(arr,i,j):\n",
    "        return 0\n",
    "\n",
    "    \n",
    "    else:\n",
    "        for k in range(i,j):\n",
    "            temp = 1+ mm(arr,i,k) + mm(arr,k+1,j)\n",
    "            min_ = min(min_,temp)\n",
    "            \n",
    "    return min_\n",
    "\n",
    "\n",
    "mm(arr,0,len(arr)-1)\n",
    "\n",
    "\n",
    "\n",
    "# import sys\n",
    "\n",
    "# def isPalindrome(X, i, j):\n",
    " \n",
    "#     while i <= j:\n",
    "#         if X[i] != X[j]:\n",
    "#             return False\n",
    "#         i = i + 1\n",
    "#         j = j - 1\n",
    " \n",
    "#     return True\n",
    " \n",
    "\n",
    "# def findMinCuts(X, i, j):\n",
    " \n",
    "\n",
    "#     if i == j or isPalindrome(X, i, j):\n",
    "#         return 0\n",
    " \n",
    "#     min = sys.maxsize\n",
    "\n",
    " \n",
    "#     for k in range(i, j):\n",
    " \n",
    "#         count = 1 + findMinCuts(X, i, k) + findMinCuts(X, k + 1, j)\n",
    " \n",
    "#         if count < min:\n",
    "#             min = count\n",
    " \n",
    "#     return min\n",
    " \n",
    "# X = 'BABABCBADCD'\n",
    "# findMinCuts(X, 0, len(X) - 1)"
   ]
  },
  {
   "cell_type": "code",
   "execution_count": 315,
   "id": "17e12798",
   "metadata": {},
   "outputs": [],
   "source": [
    "arr = [\"a\",\"b\",\"c\",\"b\", \"a\"]\n",
    "arr = [\"B\",\"A\",\"B\",\"A\",\"B\",\"C\",\"B\",\"A\",\"D\",\"C\",\"D\"]\n",
    "# arr = []\n",
    "# arr= [\"A\",\"B\",\"C\",\"D\"]"
   ]
  },
  {
   "cell_type": "code",
   "execution_count": 316,
   "id": "8e2aedad",
   "metadata": {},
   "outputs": [
    {
     "data": {
      "text/plain": [
       "['B', 'A', 'B', 'A', 'B', 'C', 'B', 'A', 'D', 'C', 'D']"
      ]
     },
     "execution_count": 316,
     "metadata": {},
     "output_type": "execute_result"
    }
   ],
   "source": [
    "arr"
   ]
  },
  {
   "cell_type": "code",
   "execution_count": 317,
   "id": "02906209",
   "metadata": {},
   "outputs": [],
   "source": [
    "t = [[-1 for i in range(1001)] for j in range(1001) ]"
   ]
  },
  {
   "cell_type": "code",
   "execution_count": 319,
   "id": "c87a88ab",
   "metadata": {},
   "outputs": [
    {
     "data": {
      "text/plain": [
       "2"
      ]
     },
     "execution_count": 319,
     "metadata": {},
     "output_type": "execute_result"
    }
   ],
   "source": [
    "mm(arr,0,len(arr)-1\n",
    "  )"
   ]
  },
  {
   "cell_type": "code",
   "execution_count": 296,
   "id": "49a4cf31",
   "metadata": {},
   "outputs": [
    {
     "data": {
      "text/plain": [
       "(50, 20, 20, 30, 30, 40)"
      ]
     },
     "execution_count": 296,
     "metadata": {},
     "output_type": "execute_result"
    }
   ],
   "source": [
    "50,20, 20,30, 30,40"
   ]
  },
  {
   "cell_type": "code",
   "execution_count": 217,
   "id": "7bc10b98",
   "metadata": {},
   "outputs": [],
   "source": [
    "arr = [1, 2, 3, 4, 3]"
   ]
  },
  {
   "cell_type": "code",
   "execution_count": 320,
   "id": "dc2447fe",
   "metadata": {},
   "outputs": [
    {
     "data": {
      "text/plain": [
       "2"
      ]
     },
     "execution_count": 320,
     "metadata": {},
     "output_type": "execute_result"
    }
   ],
   "source": [
    "mm(arr,0,len(arr)-1)"
   ]
  },
  {
   "cell_type": "code",
   "execution_count": 310,
   "id": "aada6c34",
   "metadata": {},
   "outputs": [],
   "source": [
    "# ispalindrome(arr,0,len(arr)-1)"
   ]
  },
  {
   "cell_type": "code",
   "execution_count": 321,
   "id": "ba22998b",
   "metadata": {},
   "outputs": [
    {
     "data": {
      "text/plain": [
       "True"
      ]
     },
     "execution_count": 321,
     "metadata": {},
     "output_type": "execute_result"
    }
   ],
   "source": [
    "ispalindrome([\"a\",\"b\",\"c\",\"b\",\"a\"],0,4)"
   ]
  },
  {
   "cell_type": "code",
   "execution_count": null,
   "id": "4648f15c",
   "metadata": {},
   "outputs": [],
   "source": [
    "t"
   ]
  },
  {
   "cell_type": "code",
   "execution_count": 312,
   "id": "bcb211f2",
   "metadata": {},
   "outputs": [
    {
     "data": {
      "text/plain": [
       "['B', 'A', 'B', 'A', 'B', 'C', 'B', 'A', 'D', 'C', 'D']"
      ]
     },
     "execution_count": 312,
     "metadata": {},
     "output_type": "execute_result"
    }
   ],
   "source": [
    "arr"
   ]
  },
  {
   "cell_type": "code",
   "execution_count": null,
   "id": "2607b568",
   "metadata": {},
   "outputs": [],
   "source": []
  }
 ],
 "metadata": {
  "kernelspec": {
   "display_name": "Python 3",
   "language": "python",
   "name": "python3"
  },
  "language_info": {
   "codemirror_mode": {
    "name": "ipython",
    "version": 3
   },
   "file_extension": ".py",
   "mimetype": "text/x-python",
   "name": "python",
   "nbconvert_exporter": "python",
   "pygments_lexer": "ipython3",
   "version": "3.8.5"
  }
 },
 "nbformat": 4,
 "nbformat_minor": 5
}
