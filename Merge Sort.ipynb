{
 "cells": [
  {
   "cell_type": "code",
   "execution_count": 4,
   "id": "5ab4c225",
   "metadata": {},
   "outputs": [],
   "source": [
    "def merge_sort(arr):\n",
    "    \n",
    "    print(\"called with arr, \", arr)\n",
    "    \n",
    "    while len(arr)>=1:\n",
    "        \n",
    "        if len(arr)==1:\n",
    "            return arr\n",
    "    \n",
    "        mid = len(arr)//2\n",
    "        \n",
    "        l = arr[0:mid]\n",
    "        \n",
    "        r = arr[mid:]\n",
    "\n",
    "        l = merge_sort(l)\n",
    "        print(\"The array returned in l is:\", l)\n",
    "        r = merge_sort(r)\n",
    "        print(\"The array returned in r is:\", r)\n",
    "        \n",
    "        \n",
    "        i,j,k = 0,0,0\n",
    "        arr = [None]*(len(l)+len(r))\n",
    "\n",
    "        while i<len(l) and j<len(r):\n",
    "\n",
    "            if l[i]<= r[j]:\n",
    "                arr[k] = l[i]\n",
    "                i += 1\n",
    "                k += 1\n",
    "            else:\n",
    "                arr[k] = r[j]\n",
    "                j += 1\n",
    "                k +=1\n",
    "\n",
    "        while i<len(l):\n",
    "                arr[k] = l[i]\n",
    "                i += 1\n",
    "                k += 1\n",
    "\n",
    "        while j<len(r):\n",
    "                arr[k] = r[j]\n",
    "                j += 1\n",
    "                k +=1\n",
    "                \n",
    "        print(\"The array after merging looks like: \", arr)\n",
    "\n",
    "        return arr"
   ]
  },
  {
   "cell_type": "code",
   "execution_count": 15,
   "id": "5f00e8fe",
   "metadata": {},
   "outputs": [],
   "source": [
    "arr = [11,211,13,4,15,6,17,8,19,10,0]"
   ]
  },
  {
   "cell_type": "code",
   "execution_count": 16,
   "id": "6a10374b",
   "metadata": {
    "scrolled": false
   },
   "outputs": [
    {
     "name": "stdout",
     "output_type": "stream",
     "text": [
      "called with arr,  [11, 211, 13, 4, 15, 6, 17, 8, 19, 10, 0]\n",
      "called with arr,  [11, 211, 13, 4, 15]\n",
      "called with arr,  [11, 211]\n",
      "called with arr,  [11]\n",
      "The array returned in l is: [11]\n",
      "called with arr,  [211]\n",
      "The array returned in r is: [211]\n",
      "The array after merging looks like:  [11, 211]\n",
      "The array returned in l is: [11, 211]\n",
      "called with arr,  [13, 4, 15]\n",
      "called with arr,  [13]\n",
      "The array returned in l is: [13]\n",
      "called with arr,  [4, 15]\n",
      "called with arr,  [4]\n",
      "The array returned in l is: [4]\n",
      "called with arr,  [15]\n",
      "The array returned in r is: [15]\n",
      "The array after merging looks like:  [4, 15]\n",
      "The array returned in r is: [4, 15]\n",
      "The array after merging looks like:  [4, 13, 15]\n",
      "The array returned in r is: [4, 13, 15]\n",
      "The array after merging looks like:  [4, 11, 13, 15, 211]\n",
      "The array returned in l is: [4, 11, 13, 15, 211]\n",
      "called with arr,  [6, 17, 8, 19, 10, 0]\n",
      "called with arr,  [6, 17, 8]\n",
      "called with arr,  [6]\n",
      "The array returned in l is: [6]\n",
      "called with arr,  [17, 8]\n",
      "called with arr,  [17]\n",
      "The array returned in l is: [17]\n",
      "called with arr,  [8]\n",
      "The array returned in r is: [8]\n",
      "The array after merging looks like:  [8, 17]\n",
      "The array returned in r is: [8, 17]\n",
      "The array after merging looks like:  [6, 8, 17]\n",
      "The array returned in l is: [6, 8, 17]\n",
      "called with arr,  [19, 10, 0]\n",
      "called with arr,  [19]\n",
      "The array returned in l is: [19]\n",
      "called with arr,  [10, 0]\n",
      "called with arr,  [10]\n",
      "The array returned in l is: [10]\n",
      "called with arr,  [0]\n",
      "The array returned in r is: [0]\n",
      "The array after merging looks like:  [0, 10]\n",
      "The array returned in r is: [0, 10]\n",
      "The array after merging looks like:  [0, 10, 19]\n",
      "The array returned in r is: [0, 10, 19]\n",
      "The array after merging looks like:  [0, 6, 8, 10, 17, 19]\n",
      "The array returned in r is: [0, 6, 8, 10, 17, 19]\n",
      "The array after merging looks like:  [0, 4, 6, 8, 10, 11, 13, 15, 17, 19, 211]\n"
     ]
    },
    {
     "data": {
      "text/plain": [
       "[0, 4, 6, 8, 10, 11, 13, 15, 17, 19, 211]"
      ]
     },
     "execution_count": 16,
     "metadata": {},
     "output_type": "execute_result"
    }
   ],
   "source": [
    "merge_sort(arr)"
   ]
  },
  {
   "cell_type": "code",
   "execution_count": 17,
   "id": "b5157000",
   "metadata": {},
   "outputs": [
    {
     "data": {
      "text/plain": [
       "11"
      ]
     },
     "execution_count": 17,
     "metadata": {},
     "output_type": "execute_result"
    }
   ],
   "source": [
    "len(arr)"
   ]
  },
  {
   "cell_type": "code",
   "execution_count": 14,
   "id": "171adc68",
   "metadata": {},
   "outputs": [
    {
     "data": {
      "text/plain": [
       "[11, 211, 13, 4, 15, 6, 17, 8, 19, 10]"
      ]
     },
     "execution_count": 14,
     "metadata": {},
     "output_type": "execute_result"
    }
   ],
   "source": [
    "arr"
   ]
  },
  {
   "cell_type": "code",
   "execution_count": null,
   "id": "fbfddcc4",
   "metadata": {},
   "outputs": [],
   "source": []
  }
 ],
 "metadata": {
  "kernelspec": {
   "display_name": "Python 3",
   "language": "python",
   "name": "python3"
  },
  "language_info": {
   "codemirror_mode": {
    "name": "ipython",
    "version": 3
   },
   "file_extension": ".py",
   "mimetype": "text/x-python",
   "name": "python",
   "nbconvert_exporter": "python",
   "pygments_lexer": "ipython3",
   "version": "3.8.5"
  }
 },
 "nbformat": 4,
 "nbformat_minor": 5
}
